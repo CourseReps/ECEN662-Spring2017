{
 "cells": [
  {
   "cell_type": "markdown",
   "metadata": {},
   "source": [
    "# Machine Problem: Test 1, Set 1\n",
    "\n",
    "The task is to create a decision rule for a binary detection problem in the Bayesian setting.\n",
    "\n",
    "\n",
    "## Statistical Structure\n",
    "\n",
    "The prior probabilities are $\\Pr (H_0) = 0.75$ and $\\Pr (H_1) = 0.25$.\n",
    "The probabilitiy density function under hypothesis zero is\n",
    "$$f(y; \\theta_0) = \\frac{ x^{\\alpha - 1} (1 - x)^{\\beta-1} }{B (\\alpha, \\beta)}\n",
    "\\quad x \\in [0,1]$$\n",
    "and the probabilitiy density function under hypothesis one is\n",
    "$$f(y; \\theta_1) = \\frac{ x^{\\beta - 1} (1 - x)^{\\alpha-1} }{B (\\alpha, \\beta)}\n",
    "\\quad x \\in [0,1]$$\n",
    " where $\\alpha = 2$ and $\\beta = 4$."
   ]
  },
  {
   "cell_type": "code",
   "execution_count": null,
   "metadata": {
    "collapsed": false
   },
   "outputs": [],
   "source": [
    "import matplotlib.pyplot as plt\n",
    "import numpy as np\n",
    "from scipy.stats import bernoulli\n",
    "from scipy.stats import beta\n",
    "\n",
    "a = 2\n",
    "b = 4\n",
    "y = np.arange(0,1.01,0.01)\n",
    "\n",
    "fig, ax = plt.subplots(1, 1)\n",
    "ax.plot(y, beta.pdf(y, a, b), 'b-', label='f(y;H0)')\n",
    "ax.plot(y, beta.pdf(y, b, a), 'r-', label='f(y;H1)')\n",
    "ax.legend(loc='best', frameon=False)\n",
    "plt.show()"
   ]
  },
  {
   "cell_type": "code",
   "execution_count": null,
   "metadata": {
    "collapsed": false
   },
   "outputs": [],
   "source": [
    "import pandas as pd\n",
    "\n",
    "identities_df = pd.DataFrame.from_csv(\"ecen662names.csv\")\n",
    "salt = 0\n",
    "sample_size = 1000\n",
    "\n",
    "for number, item in identities_df[['GITHUB','UIN']].iterrows():\n",
    "    myseed = item[1] + salt\n",
    "    np.random.seed(myseed)\n",
    "    path = \"../Students/\" + item[0] + \"/Test1/\"\n",
    "    \n",
    "    Z = bernoulli.rvs(0.25, size=sample_size)\n",
    "    Y0 = beta.rvs(a, b, size=sample_size)\n",
    "    Y1 = beta.rvs(b, a, size=sample_size)\n",
    "    Y = [h0*(1-h) + h1*h for h,h0,h1 in zip(Z,Y0,Y1)]\n",
    "\n",
    "    source_df = pd.DataFrame({'Y0':Y0, 'Y1':Y1, 'Y':Y, 'Z':Z})\n",
    "    sample_df = pd.DataFrame({'Y':Y})\n",
    "\n",
    "    #print(source_df)\n",
    "    #source_df.to_csv(path + \"TruthSet1.csv\")\n",
    "\n",
    "    #print(sample_df)\n",
    "    print(\"git add \" + path + \"Data1Set1_\" + item[0] + \".csv\")\n",
    "    sample_df.to_csv(path + \"Data1Set1_\" + item[0] + \".csv\")\n"
   ]
  },
  {
   "cell_type": "markdown",
   "metadata": {},
   "source": [
    "## Data Set\n",
    "\n",
    "The actual data set was generated using the code above and is in the form of a CSV file.\n",
    "Be careful not to override the realization contained in your data set itself\n",
    "\n",
    "## Decision Rule\n",
    "\n",
    "This part of the code simply translates a mathematical decision rule into Python code."
   ]
  },
  {
   "cell_type": "code",
   "execution_count": null,
   "metadata": {
    "collapsed": false
   },
   "outputs": [],
   "source": [
    "#Y_hat = (sample_df > 0.25)\n",
    "#Y_hat['Y'] = Y_hat['Y'].map({False: 0, True: 1})"
   ]
  },
  {
   "cell_type": "markdown",
   "metadata": {},
   "source": [
    "## Output\n",
    "\n",
    "You need to write your decisions to a CSV file called Data1Answer1.csv.\n",
    "Remember to add, commit, pull, and push solution files to GitHub."
   ]
  },
  {
   "cell_type": "code",
   "execution_count": null,
   "metadata": {
    "collapsed": false
   },
   "outputs": [],
   "source": [
    "#Y_hat.to_csv(\"Answer1.csv\")"
   ]
  }
 ],
 "metadata": {
  "anaconda-cloud": {},
  "kernelspec": {
   "display_name": "Python 3",
   "language": "python",
   "name": "python3"
  },
  "language_info": {
   "codemirror_mode": {
    "name": "ipython",
    "version": 3
   },
   "file_extension": ".py",
   "mimetype": "text/x-python",
   "name": "python",
   "nbconvert_exporter": "python",
   "pygments_lexer": "ipython3",
   "version": "3.5.2"
  }
 },
 "nbformat": 4,
 "nbformat_minor": 2
}
