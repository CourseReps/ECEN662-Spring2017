{
 "cells": [
  {
   "cell_type": "markdown",
   "metadata": {},
   "source": [
    "# Machine Problem: Test 1, Set 3\n",
    "\n",
    "The task is to create a decision rule for a binary detection problem in the Bayesian setting.\n",
    "\n",
    "\n",
    "## Statistical Structure\n",
    "\n",
    "The prior probabilities are $\\Pr (H_0) = 0.5$ and $\\Pr (H_1) = 0.5$.\n",
    "The probabilitiy density function is Gaussian with\n",
    "$$f(\\mathbf{y}; \\theta) = \\frac{1}{2 \\pi |\\Sigma_{\\theta}|^{-1/2}}\n",
    "\\exp \\left( -\\frac{1}{2} \\mathbf{y}^t \\Sigma_{\\theta}^{-1} \\mathbf{y} \\right)\n",
    "\\quad \\mathbf{y} \\in \\Re^2 .$$\n",
    "Under hypothesis zero $\\Sigma_{\\theta} = I$, the identity matrix; and under hypothesis one\n",
    "$$\\Sigma_{\\theta} = \\begin{bmatrix} 1 & \\frac{\\sqrt{3}}{2} \\\\ \\frac{\\sqrt{3}}{2} & 1 \\end{bmatrix} .$$"
   ]
  },
  {
   "cell_type": "code",
   "execution_count": 2,
   "metadata": {
    "collapsed": false
   },
   "outputs": [],
   "source": [
    "import math\n",
    "import numpy as np\n",
    "from scipy.stats import bernoulli\n",
    "from scipy.stats import beta\n",
    "import pandas as pd\n",
    "\n",
    "identities_df = pd.DataFrame.from_csv(\"ecen662names.csv\")\n",
    "salt = 0\n",
    "sample_size = 1000\n",
    "\n",
    "for number, item in identities_df[['GITHUB','UIN']].iterrows():\n",
    "    myseed = item[1] + salt\n",
    "    np.random.seed(myseed)\n",
    "    path = \"../Students/\" + item[0] + \"/Test1/\"\n",
    "\n",
    "    Y00 = np.random.normal(size=sample_size)\n",
    "    Y01 = np.random.normal(size=sample_size)\n",
    "    Y10 = 0.5 * Y00 + 0.5 * math.sqrt(3.0) * Y01\n",
    "    Y11 = Y01\n",
    "    Z = bernoulli.rvs(0.5, size=sample_size)\n",
    "    \n",
    "    Y0 = [h0*(1-h) + h1*h for h,h0,h1 in zip(Z,Y00,Y10)]\n",
    "    Y1 = [h0*(1-h) + h1*h for h,h0,h1 in zip(Z,Y01,Y11)]\n",
    "\n",
    "    #source_df = pd.DataFrame({'Y00':Y00, 'Y01':Y01, 'Y10':Y10, 'Y11':Y11, 'Y0':Y0, 'Y1':Y1, 'Z':Z})\n",
    "    sample_df = pd.DataFrame({'Y0':Y0, 'Y1':Y1})\n",
    "\n",
    "    #print(source_df)\n",
    "    #print(sample_df)\n",
    "    sample_df.to_csv(path + \"Data1Set3_\" + item[0] + \".csv\")\n"
   ]
  },
  {
   "cell_type": "markdown",
   "metadata": {},
   "source": [
    "## Data Set\n",
    "\n",
    "The actual data set was generated using the code above and is in the form of a CSV file.\n",
    "\n",
    "## Decision Rule\n",
    "\n",
    "You need to code your decision rule in Python.\n",
    "\n",
    "## Output\n",
    "\n",
    "You need to write your decisions to a CSV file called Data1Answer3.csv.\n",
    "Remember to add, commit, pull, and push solution files to GitHub."
   ]
  }
 ],
 "metadata": {
  "anaconda-cloud": {},
  "kernelspec": {
   "display_name": "Python 3",
   "language": "python",
   "name": "python3"
  },
  "language_info": {
   "codemirror_mode": {
    "name": "ipython",
    "version": 3
   },
   "file_extension": ".py",
   "mimetype": "text/x-python",
   "name": "python",
   "nbconvert_exporter": "python",
   "pygments_lexer": "ipython3",
   "version": "3.5.2"
  }
 },
 "nbformat": 4,
 "nbformat_minor": 2
}
