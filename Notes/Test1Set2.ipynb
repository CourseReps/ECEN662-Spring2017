{
 "cells": [
  {
   "cell_type": "markdown",
   "metadata": {},
   "source": [
    "# Machine Problem: Test 1, Set 2\n",
    "\n",
    "The task is to create a decision rule for a binary detection problem in the Bayesian setting.\n",
    "\n",
    "\n",
    "## Statistical Structure\n",
    "\n",
    "The prior probabilities are $\\Pr (H_0) = 0.5$ and $\\Pr (H_1) = 0.5$.\n",
    "The probabilitiy density function under hypothesis zero is a chi-squared distribution\n",
    "$$f(y; \\theta_0) = \\frac{1}{4} y e^{-\\frac{y}{2}}\n",
    "\\quad y \\in \\infty)$$\n",
    "and the probabilitiy density function under hypothesis one is a non-central chi-squared distribution\n",
    "$$f(y; \\theta_1) = \\frac{1}{2} e^{-\\frac{(y+2)}{2}} \\sqrt{\\frac{y}{2}} I_1 \\left( \\sqrt{2y} \\right)\n",
    "\\quad y \\in [0,\\infty)$$\n",
    "where $I_1(\\cdot)$ is a modified Bessel function of the first kind."
   ]
  },
  {
   "cell_type": "code",
   "execution_count": null,
   "metadata": {
    "collapsed": false
   },
   "outputs": [],
   "source": [
    "import matplotlib.pyplot as plt\n",
    "import numpy as np\n",
    "from scipy.stats import bernoulli\n",
    "from scipy.stats import chi2\n",
    "from scipy.stats import ncx2\n",
    "\n",
    "dof = 4\n",
    "ncp = 2\n",
    "y = np.arange(0.1,16.1,0.1)\n",
    "\n",
    "fig, ax = plt.subplots(1, 1)\n",
    "ax.plot(y, chi2.pdf(y, dof), 'b-', label='f(y;H0)')\n",
    "ax.plot(y, ncx2.pdf(y, dof, ncp), 'r-', label='f(y;H1)')\n",
    "ax.legend(loc='best', frameon=False)\n",
    "plt.show()"
   ]
  },
  {
   "cell_type": "code",
   "execution_count": null,
   "metadata": {
    "collapsed": false,
    "scrolled": true
   },
   "outputs": [],
   "source": [
    "import pandas as pd\n",
    "\n",
    "identities_df = pd.DataFrame.from_csv(\"ecen662names.csv\")\n",
    "salt = 0\n",
    "sample_size = 1000\n",
    "\n",
    "for number, item in identities_df[['GITHUB','UIN']].iterrows():\n",
    "    myseed = item[1] + salt\n",
    "    np.random.seed(myseed)\n",
    "    path = \"../Students/\" + item[0] + \"/Test1/\"\n",
    "\n",
    "    Y0 = np.random.chisquare(dof, size=sample_size)\n",
    "    Y1 = ncx2.rvs(dof, ncp, size=sample_size)\n",
    "    Z = bernoulli.rvs(0.5, size=sample_size)\n",
    "    Y = [h0*(1-h) + h1*h for h,h0,h1 in zip(Z,Y0,Y1)]\n",
    "\n",
    "    source_df = pd.DataFrame({'Y0':Y0, 'Y1':Y1, 'Y':Y, 'Z':Z})\n",
    "    sample_df = pd.DataFrame({'Y':Y})\n",
    "\n",
    "    #print(source_df)\n",
    "    #source_df.to_csv(path + \"TruthSet2.csv\")\n",
    "\n",
    "    #print(sample_df)\n",
    "    print(\"git add \" + path + \"Data1Set2_\" + item[0] + \".csv\")\n",
    "    sample_df.to_csv(path + \"Data1Set2_\" + item[0] + \".csv\")\n"
   ]
  },
  {
   "cell_type": "markdown",
   "metadata": {},
   "source": [
    "## Data Set\n",
    "\n",
    "The actual data set was generated using the code above and is in the form of a CSV file.\n",
    "\n",
    "## Decision Rule\n",
    "\n",
    "You need to code your decision rule in Python.\n",
    "\n",
    "## Output\n",
    "\n",
    "You need to write your decisions to a CSV file called Data1Answer2.csv.\n",
    "Remember to add, commit, pull, and push solution files to GitHub."
   ]
  },
  {
   "cell_type": "code",
   "execution_count": null,
   "metadata": {
    "collapsed": true
   },
   "outputs": [],
   "source": []
  }
 ],
 "metadata": {
  "anaconda-cloud": {},
  "kernelspec": {
   "display_name": "Python 3",
   "language": "python",
   "name": "python3"
  },
  "language_info": {
   "codemirror_mode": {
    "name": "ipython",
    "version": 3
   },
   "file_extension": ".py",
   "mimetype": "text/x-python",
   "name": "python",
   "nbconvert_exporter": "python",
   "pygments_lexer": "ipython3",
   "version": "3.5.2"
  }
 },
 "nbformat": 4,
 "nbformat_minor": 2
}
