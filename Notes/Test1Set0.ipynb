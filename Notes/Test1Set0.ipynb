{
 "cells": [
  {
   "cell_type": "markdown",
   "metadata": {},
   "source": [
    "# Machine Problem: Test 1, Set 0 (practice)\n",
    "\n",
    "The goal of this machine problem is to help you prepare for the upcoming live computational challenge.\n",
    "In particular, you should be familiar with manipulating data for a Pandas dataframe, reading the data in from a csv file, and writing the dataframe to a csv file.\n",
    "\n",
    "The task is to create a decision rule for a binary detection problem in the Bayesian setting.\n",
    "\n",
    "## Statistical Structure\n",
    "\n",
    "The prior probabilities are $\\Pr (H_0) = 0.5$ and $\\Pr (H_1) = 0.5$.\n",
    "The probability density function under hypothesis zero is\n",
    "$$f(y;\\theta_0) = \\frac{1}{\\sqrt{2 \\pi}} \\exp \\left( - \\frac{y^2}{2} \\right)$$\n",
    "and the probability density function under hypothesis one is\n",
    "$$f(y;\\theta_1) = \\frac{1}{\\sqrt{2 \\pi}} \\exp \\left( - \\frac{(y-1)^2}{2} \\right) .$$"
   ]
  },
  {
   "cell_type": "code",
   "execution_count": null,
   "metadata": {
    "collapsed": false
   },
   "outputs": [],
   "source": [
    "import matplotlib.pyplot as plt\n",
    "import matplotlib.mlab as mlab\n",
    "import numpy as np\n",
    "import pandas as pd\n",
    "\n",
    "mean0 = 0.0\n",
    "mean1 = 1.0\n",
    "\n",
    "fig, ax1 = plt.subplots()\n",
    "y = np.linspace(-3, 4, 200)\n",
    "ax1.plot(y, mlab.normpdf(y, mean0, 1), 'b-', label='f(y;H0)')\n",
    "ax1.plot(y, mlab.normpdf(y, mean1, 1), 'r-', label='f(y;H1)')\n",
    "ax1.legend(loc='best', frameon=False)\n",
    "plt.show()"
   ]
  },
  {
   "cell_type": "code",
   "execution_count": null,
   "metadata": {
    "collapsed": false
   },
   "outputs": [],
   "source": [
    "import pandas as pd\n",
    "from scipy.stats import bernoulli\n",
    "\n",
    "identities_df = pd.DataFrame.from_csv(\"ecen662names.csv\")\n",
    "sample_size = 10\n",
    "np.random.seed(0)\n",
    "\n",
    "Y0 = np.random.randn(sample_size) + mean0\n",
    "Y1 = np.random.randn(sample_size) + mean1\n",
    "Z = bernoulli.rvs(0.5, size=sample_size)\n",
    "Y = [h0*(1-h) + h1*h for h,h0,h1 in zip(Z,Y0,Y1)]\n",
    "\n",
    "source_df = pd.DataFrame({'Y0':Y0, 'Y1':Y1, 'Y':Y, 'Z':Z})\n",
    "sample_df = pd.DataFrame({'Y':Y})\n",
    "\n",
    "source_df.to_csv(\"Data1Solution0.csv\")\n",
    "sample_df.to_csv(\"Data1Set0.csv\")\n"
   ]
  },
  {
   "cell_type": "markdown",
   "metadata": {},
   "source": [
    "## Data Set Provided to Students\n",
    "\n",
    "Actual data sets will be given in the form of CSV files.\n",
    "Your program should be able to load the appropriate data set in a Pandas dataframe and subsequently process it."
   ]
  },
  {
   "cell_type": "code",
   "execution_count": null,
   "metadata": {
    "collapsed": false
   },
   "outputs": [],
   "source": [
    "sample_df = pd.DataFrame.from_csv(\"Data1Set0.csv\")"
   ]
  },
  {
   "cell_type": "markdown",
   "metadata": {},
   "source": [
    "## Decision Rule\n",
    "\n",
    "This part of the code simply translates a mathematical decision rule into Python code."
   ]
  },
  {
   "cell_type": "code",
   "execution_count": null,
   "metadata": {
    "collapsed": false
   },
   "outputs": [],
   "source": [
    "Z_hat = (sample_df > 0.5)\n",
    "Z_hat['Y'] = Z_hat['Y'].map({False: 0, True: 1})\n",
    "Z_hat.rename(columns = {'Y':'Z_hat'},inplace=True)\n",
    "print(Z_hat)"
   ]
  },
  {
   "cell_type": "markdown",
   "metadata": {},
   "source": [
    "## Output\n",
    "\n",
    "You need to write your decisions to a CSV file called Data1Answer1.csv.\n",
    "Remember to add, commit, pull, and push solution files to GitHub.frames."
   ]
  },
  {
   "cell_type": "markdown",
   "metadata": {
    "collapsed": false
   },
   "source": [
    "Z_hat.to_csv(\"Data1Answer0.csv\")"
   ]
  },
  {
   "cell_type": "code",
   "execution_count": null,
   "metadata": {
    "collapsed": true
   },
   "outputs": [],
   "source": []
  }
 ],
 "metadata": {
  "anaconda-cloud": {},
  "kernelspec": {
   "display_name": "Python 3",
   "language": "python",
   "name": "python3"
  },
  "language_info": {
   "codemirror_mode": {
    "name": "ipython",
    "version": 3
   },
   "file_extension": ".py",
   "mimetype": "text/x-python",
   "name": "python",
   "nbconvert_exporter": "python",
   "pygments_lexer": "ipython3",
   "version": "3.5.2"
  }
 },
 "nbformat": 4,
 "nbformat_minor": 2
}
