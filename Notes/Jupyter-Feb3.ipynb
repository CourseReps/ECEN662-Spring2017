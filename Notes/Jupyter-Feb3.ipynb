{
 "cells": [
  {
   "cell_type": "markdown",
   "metadata": {},
   "source": [
    "# Pandas  Example\n",
    "Below is a simple example of generating data for a Pandas dataframe, writing the dataframe to a csv file, and reading the data in from a csv file.\n",
    "\n",
    "We begin by generating training data."
   ]
  },
  {
   "cell_type": "code",
   "execution_count": 7,
   "metadata": {
    "collapsed": false
   },
   "outputs": [
    {
     "name": "stdout",
     "output_type": "stream",
     "text": [
      "          x         y    z\n",
      "0  0.742428  0.867380  1.0\n",
      "1 -0.652918  1.549514  1.0\n",
      "2 -0.386425  0.099285  0.0\n",
      "3  0.775962 -0.375134  0.0\n",
      "4  0.802124 -0.044338  0.0\n",
      "5  0.845235 -0.295808  0.0\n",
      "6 -0.578040  1.893228  1.0\n",
      "7  0.817018  0.063965  0.0\n",
      "8 -0.278527  0.924367  1.0\n",
      "9 -0.650453  0.110538  0.0\n"
     ]
    }
   ],
   "source": [
    "import numpy as np\n",
    "import pandas as pd\n",
    "shift = 1.0\n",
    "z = np.random.randint(0,2,10)*shift\n",
    "x = np.random.randn(10) + z\n",
    "y = np.random.randn(10) + z\n",
    "df = pd.DataFrame({'x':x, 'y':y, 'z':z})\n",
    "\n",
    "print(df)"
   ]
  },
  {
   "cell_type": "markdown",
   "metadata": {},
   "source": [
    "We then write the training data to a CSV file."
   ]
  },
  {
   "cell_type": "code",
   "execution_count": 8,
   "metadata": {
    "collapsed": false
   },
   "outputs": [],
   "source": [
    "df.to_csv(\"trainData.csv\")"
   ]
  },
  {
   "cell_type": "markdown",
   "metadata": {},
   "source": [
    "Next, we can generate some test data, and write it to a csv file as well."
   ]
  },
  {
   "cell_type": "code",
   "execution_count": 9,
   "metadata": {
    "collapsed": true
   },
   "outputs": [],
   "source": [
    "z = np.random.randint(0,2,10)\n",
    "test_x = np.random.randn(10)+ z\n",
    "test_y = np.random.randn(10)+ z\n",
    "\n",
    "df2 = pd.DataFrame({'x':test_x, 'y':test_y})\n",
    "df2.to_csv(\"testData.csv\")"
   ]
  },
  {
   "cell_type": "markdown",
   "metadata": {},
   "source": [
    "We now read both sets of data from the csv files into Pandas dataframes."
   ]
  },
  {
   "cell_type": "code",
   "execution_count": 10,
   "metadata": {
    "collapsed": false
   },
   "outputs": [],
   "source": [
    "train_df = pd.DataFrame.from_csv(\"trainData.csv\")\n",
    "test_df = pd.DataFrame.from_csv(\"testData.csv\")"
   ]
  },
  {
   "cell_type": "code",
   "execution_count": null,
   "metadata": {
    "collapsed": true
   },
   "outputs": [],
   "source": []
  }
 ],
 "metadata": {
  "anaconda-cloud": {},
  "kernelspec": {
   "display_name": "Python 2",
   "language": "python",
   "name": "python2"
  },
  "language_info": {
   "codemirror_mode": {
    "name": "ipython",
    "version": 2
   },
   "file_extension": ".py",
   "mimetype": "text/x-python",
   "name": "python",
   "nbconvert_exporter": "python",
   "pygments_lexer": "ipython2",
   "version": "2.7.12"
  }
 },
 "nbformat": 4,
 "nbformat_minor": 2
}
