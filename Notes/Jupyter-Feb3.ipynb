{
 "cells": [
  {
   "cell_type": "markdown",
   "metadata": {},
   "source": [
    "# Machine Problem 0.0\n",
    "\n",
    "The goal of this machine problem is to help students prepare for the upcoming live computational challenge.\n",
    "In particular, one should be familiar with generating data for a Pandas dataframe, reading the data in from a csv file, and writing the dataframe to a csv file."
   ]
  },
  {
   "cell_type": "markdown",
   "metadata": {},
   "source": [
    "## Statistical Structure\n",
    "\n",
    "The statistical task at hand consists in creating a decision rule for a binary detection problem in the Bayesian setting.\n",
    "The prior probability are $\\Pr( H_0 ) = \\Pr (H_1) = \\frac{1}{2}$.\n",
    "The probability distribution function under Hypothesis 0 is\n",
    "$$f(y;\\theta_0) = \\frac{1}{\\sqrt{2 \\pi}} \\exp \\left( - \\frac{y^2}{2} \\right) .$$\n",
    "And, the probability distribution function under Hypothesis 1 is\n",
    "$$f(y;\\theta_1) = \\frac{1}{\\sqrt{2 \\pi}} \\exp \\left( - \\frac{(y-1)^2}{2} \\right) .$$\n",
    "The generation code for the data file appears below."
   ]
  },
  {
   "cell_type": "code",
   "execution_count": null,
   "metadata": {
    "collapsed": false
   },
   "outputs": [],
   "source": [
    "import numpy as np\n",
    "import pandas as pd\n",
    "\n",
    "mean0 = 0.0\n",
    "mean1 = 1.0\n",
    "\n",
    "Z = np.random.randint(0,2,10)\n",
    "Y0 = np.random.randn(10) + mean0\n",
    "Y1 = np.random.randn(10) + mean1\n",
    "\n",
    "Y = [h0*(1-h) + h1*h for h,h0,h1 in zip(Z,Y0,Y1)]\n",
    "\n",
    "source_df = pd.DataFrame({'Y0':Y0, 'Y1':Y1, 'Y':Y, 'Z':Z})\n",
    "sample_df = pd.DataFrame({'Y':Y})\n",
    "\n",
    "print(\"Generated Data\")\n",
    "print(source_df, \"\\n\")\n",
    "\n",
    "print(\"Available Sample\")\n",
    "print(sample_df, \"\\n\")\n",
    "\n",
    "sample.to_csv(\"DataSet0.csv\")"
   ]
  },
  {
   "cell_type": "markdown",
   "metadata": {},
   "source": [
    "## Data Set Provided to Students\n",
    "\n",
    "Actual data sets will be given in the form of CSV files.\n",
    "Program should be able to load the appropriate data set in a Pandas dataframe and subsequently process it."
   ]
  },
  {
   "cell_type": "code",
   "execution_count": null,
   "metadata": {
    "collapsed": false
   },
   "outputs": [],
   "source": [
    "sample_df = pd.DataFrame.from_csv(\"DataSet0.csv\")"
   ]
  },
  {
   "cell_type": "markdown",
   "metadata": {},
   "source": [
    "## Decision Rule\n",
    "\n",
    "This part of the code simply translates a mathematical decision rule into Python code."
   ]
  },
  {
   "cell_type": "code",
   "execution_count": null,
   "metadata": {
    "collapsed": false
   },
   "outputs": [],
   "source": [
    "d Y_hat[]\n",
    "Y_hat = (sample_df > 0.5)\n",
    "print(H0_indices)"
   ]
  },
  {
   "cell_type": "markdown",
   "metadata": {},
   "source": [
    "We now read both sets of data from the csv files into Pandas dataframes."
   ]
  },
  {
   "cell_type": "code",
   "execution_count": null,
   "metadata": {
    "collapsed": false
   },
   "outputs": [],
   "source": [
    "Y_hat.to_csv(\"Answer0.csv\")\n"
   ]
  },
  {
   "cell_type": "code",
   "execution_count": null,
   "metadata": {
    "collapsed": true
   },
   "outputs": [],
   "source": []
  }
 ],
 "metadata": {
  "anaconda-cloud": {},
  "kernelspec": {
   "display_name": "Python 3",
   "language": "python",
   "name": "python3"
  },
  "language_info": {
   "codemirror_mode": {
    "name": "ipython",
    "version": 3
   },
   "file_extension": ".py",
   "mimetype": "text/x-python",
   "name": "python",
   "nbconvert_exporter": "python",
   "pygments_lexer": "ipython3",
   "version": "3.5.2"
  }
 },
 "nbformat": 4,
 "nbformat_minor": 2
}
