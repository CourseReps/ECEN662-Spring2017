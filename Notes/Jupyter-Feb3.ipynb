{
 "cells": [
  {
   "cell_type": "markdown",
   "metadata": {},
   "source": [
    "# Machine Problem 0.0\n",
    "\n",
    "The goal of this machine problem is to help students prepare for the upcoming live computational challenge.\n",
    "In particular, one should be familiar with generating data for a Pandas dataframe, reading the data in from a csv file, and writing the dataframe to a csv file."
   ]
  },
  {
   "cell_type": "markdown",
   "metadata": {},
   "source": [
    "## Statistical Structure\n",
    "\n",
    "The statistical task at hand consists in creating a decision rule for a binary detection problem in the Bayesian setting.\n",
    "The prior probability are $\\Pr( H_0 ) = \\Pr (H_1) = \\frac{1}{2}$.\n",
    "The probability distribution function under Hypothesis 0 is\n",
    "$$f(y;\\theta_0) = \\frac{1}{\\sqrt{2 \\pi}} \\exp \\left( - \\frac{y^2}{2} \\right) .$$\n",
    "And, the probability distribution function under Hypothesis 1 is\n",
    "$$f(y;\\theta_1) = \\frac{1}{\\sqrt{2 \\pi}} \\exp \\left( - \\frac{(y-1)^2}{2} \\right) .$$\n",
    "The generation code for the data file appears below."
   ]
  },
  {
   "cell_type": "code",
   "execution_count": 7,
   "metadata": {
    "collapsed": false
   },
   "outputs": [
    {
     "name": "stdout",
     "output_type": "stream",
     "text": [
      "Generated Data\n",
      "(          Y        Y0        Y1  Z\n",
      "0 -1.157911 -1.157911  1.605662  0\n",
      "1  1.553757  1.553757  1.276565  0\n",
      "2  1.168600  0.684641  1.168600  1\n",
      "3  0.767144  1.460516  0.767144  1\n",
      "4  1.715646  1.715646  0.728306  0\n",
      "5  1.957654  1.957654  0.475231  0\n",
      "6 -0.103198 -0.416062 -0.103198  1\n",
      "7 -0.322989 -0.322989 -1.025568  0\n",
      "8  1.609299  0.914469  1.609299  1\n",
      "9  1.298129  1.214280  1.298129  1, '\\n')\n",
      "Available Sample\n",
      "(          Y\n",
      "0 -1.157911\n",
      "1  1.553757\n",
      "2  1.168600\n",
      "3  0.767144\n",
      "4  1.715646\n",
      "5  1.957654\n",
      "6 -0.103198\n",
      "7 -0.322989\n",
      "8  1.609299\n",
      "9  1.298129, '\\n')\n"
     ]
    }
   ],
   "source": [
    "import numpy as np\n",
    "import pandas as pd\n",
    "\n",
    "mean0 = 0.0\n",
    "mean1 = 1.0\n",
    "\n",
    "Z = np.random.randint(0,2,10)\n",
    "Y0 = np.random.randn(10) + mean0\n",
    "Y1 = np.random.randn(10) + mean1\n",
    "\n",
    "Y = [h0*(1-h) + h1*h for h,h0,h1 in zip(Z,Y0,Y1)]\n",
    "\n",
    "source_df = pd.DataFrame({'Y0':Y0, 'Y1':Y1, 'Y':Y, 'Z':Z})\n",
    "sample_df = pd.DataFrame({'Y':Y})\n",
    "\n",
    "print(\"Generated Data\")\n",
    "print(source_df, \"\\n\")\n",
    "\n",
    "print(\"Available Sample\")\n",
    "print(sample_df, \"\\n\")\n",
    "\n",
    "sample_df.to_csv(\"DataSet0.csv\")"
   ]
  },
  {
   "cell_type": "markdown",
   "metadata": {},
   "source": [
    "## Data Set Provided to Students\n",
    "\n",
    "Actual data sets will be given in the form of CSV files.\n",
    "Program should be able to load the appropriate data set in a Pandas dataframe and subsequently process it."
   ]
  },
  {
   "cell_type": "code",
   "execution_count": 8,
   "metadata": {
    "collapsed": false
   },
   "outputs": [],
   "source": [
    "sample_df = pd.DataFrame.from_csv(\"DataSet0.csv\")"
   ]
  },
  {
   "cell_type": "markdown",
   "metadata": {},
   "source": [
    "## Decision Rule\n",
    "\n",
    "This part of the code simply translates a mathematical decision rule into Python code."
   ]
  },
  {
   "cell_type": "code",
   "execution_count": 12,
   "metadata": {
    "collapsed": false
   },
   "outputs": [
    {
     "name": "stdout",
     "output_type": "stream",
     "text": [
      "   Y\n",
      "0  0\n",
      "1  1\n",
      "2  1\n",
      "3  1\n",
      "4  1\n",
      "5  1\n",
      "6  0\n",
      "7  0\n",
      "8  1\n",
      "9  1\n"
     ]
    }
   ],
   "source": [
    "#d Y_hat[]\n",
    "Y_hat = (sample_df > 0.5)\n",
    "Y_hat['Y'] = Y_hat['Y'].map({False: 0, True: 1})\n",
    "print(Y_hat)"
   ]
  },
  {
   "cell_type": "markdown",
   "metadata": {},
   "source": [
    "We now read both sets of data from the csv files into Pandas dataframes."
   ]
  },
  {
   "cell_type": "code",
   "execution_count": null,
   "metadata": {
    "collapsed": false
   },
   "outputs": [],
   "source": [
    "Y_hat.to_csv(\"Answer0.csv\")\n"
   ]
  },
  {
   "cell_type": "code",
   "execution_count": null,
   "metadata": {
    "collapsed": true
   },
   "outputs": [],
   "source": []
  }
 ],
 "metadata": {
  "anaconda-cloud": {},
  "kernelspec": {
   "display_name": "Python 2",
   "language": "python",
   "name": "python2"
  },
  "language_info": {
   "codemirror_mode": {
    "name": "ipython",
    "version": 2
   },
   "file_extension": ".py",
   "mimetype": "text/x-python",
   "name": "python",
   "nbconvert_exporter": "python",
   "pygments_lexer": "ipython2",
   "version": "2.7.12"
  }
 },
 "nbformat": 4,
 "nbformat_minor": 2
}
