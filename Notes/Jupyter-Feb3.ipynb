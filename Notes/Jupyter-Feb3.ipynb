{
 "cells": [
  {
   "cell_type": "markdown",
   "metadata": {},
   "source": [
    "# Pandas  Example\n",
    "Below is a simple example of generating data for a Pandas dataframe, writing the dataframe to a csv file, and reading the data in from a csv file.\n",
    "\n",
    "We begin by generating training data."
   ]
  },
  {
   "cell_type": "code",
   "execution_count": 1,
   "metadata": {
    "collapsed": false
   },
   "outputs": [
    {
     "name": "stdout",
     "output_type": "stream",
     "text": [
      "          x         y  z\n",
      "0  0.136524  1.836379  1\n",
      "1 -2.853496  0.828152  0\n",
      "2 -1.824438 -0.626114  0\n",
      "3 -0.730934 -0.075133  1\n",
      "4 -1.360908  2.150684  0\n",
      "5  0.526854  2.604221  1\n",
      "6 -0.014069  0.847853  1\n",
      "7  0.301415 -0.603834  1\n",
      "8  0.579238  0.515515  1\n",
      "9 -1.255902  1.647144  1\n"
     ]
    }
   ],
   "source": [
    "import numpy as np\n",
    "import pandas as pd\n",
    "shift = 1.0\n",
    "x = np.random.randn(10)\n",
    "y = np.random.randn(10) + shift\n",
    "z = np.random.randint(0,2,10)\n",
    "df = pd.DataFrame({'x':x, 'y':y, 'z':z})\n",
    "\n",
    "print(df)"
   ]
  },
  {
   "cell_type": "markdown",
   "metadata": {},
   "source": [
    "We then write the training data to a CSV file."
   ]
  },
  {
   "cell_type": "code",
   "execution_count": null,
   "metadata": {
    "collapsed": false
   },
   "outputs": [],
   "source": [
    "df.to_csv(\"trainData.csv\")"
   ]
  },
  {
   "cell_type": "markdown",
   "metadata": {},
   "source": [
    "Next, we can generate some test data, and write it to a csv file as well."
   ]
  },
  {
   "cell_type": "code",
   "execution_count": null,
   "metadata": {
    "collapsed": true
   },
   "outputs": [],
   "source": [
    "test_x = np.random.randn(10)\n",
    "test_y = np.random.randn(10) + shift\n",
    "\n",
    "df2 = pd.DataFrame({'x':test_x, 'y':test_y})\n",
    "df2.to_csv(\"testData.csv\")"
   ]
  },
  {
   "cell_type": "markdown",
   "metadata": {},
   "source": [
    "We now read both sets of data from the csv files into Pandas dataframes."
   ]
  },
  {
   "cell_type": "code",
   "execution_count": null,
   "metadata": {
    "collapsed": false
   },
   "outputs": [],
   "source": [
    "train_df = pd.DataFrame.from_csv(\"trainData.csv\")\n",
    "test_df = pd.DataFrame.from_csv(\"testData.csv\")"
   ]
  },
  {
   "cell_type": "code",
   "execution_count": null,
   "metadata": {
    "collapsed": true
   },
   "outputs": [],
   "source": []
  }
 ],
 "metadata": {
  "anaconda-cloud": {},
  "kernelspec": {
   "display_name": "Python 2",
   "language": "python",
   "name": "python2"
  },
  "language_info": {
   "codemirror_mode": {
    "name": "ipython",
    "version": 2
   },
   "file_extension": ".py",
   "mimetype": "text/x-python",
   "name": "python",
   "nbconvert_exporter": "python",
   "pygments_lexer": "ipython2",
   "version": "2.7.12"
  }
 },
 "nbformat": 4,
 "nbformat_minor": 2
}
