{
 "cells": [
  {
   "cell_type": "code",
   "execution_count": null,
   "metadata": {
    "collapsed": false
   },
   "outputs": [],
   "source": [
    "import matplotlib.pyplot as plt\n",
    "import numpy as np\n",
    "import matplotlib.mlab as mlab\n",
    "import math\n",
    "\n",
    "fig, ax1 = plt.subplots()\n",
    "mu0 = -1\n",
    "variance0 = 1\n",
    "sigma0 = math.sqrt(variance0)\n",
    "x = np.linspace(-4, 8, 200)\n",
    "ax1.plot(x,mlab.normpdf(x, mu0, sigma0))\n",
    "xfill = np.linspace(0,8,100)\n",
    "ax1.fill_between(xfill,0,mlab.normpdf(xfill, mu0, sigma0))\n",
    "\n",
    "variance1 = 1\n",
    "sigma1 = math.sqrt(variance1)\n",
    "x = np.linspace(-4, 8, 200)\n",
    "for mu1 in range(1,5):\n",
    "    ax1.plot(x,mlab.normpdf(x, mu1, sigma1),color='r')\n",
    "    ax2 = ax1.twinx()\n",
    "    ax2.plot(x,np.log(mlab.normpdf(x, mu1, sigma1)) - np.log(mlab.normpdf(x, mu0, sigma0)),'k--')\n",
    "\n",
    "plt.show()"
   ]
  },
  {
   "cell_type": "code",
   "execution_count": null,
   "metadata": {
    "collapsed": true
   },
   "outputs": [],
   "source": []
  }
 ],
 "metadata": {
  "anaconda-cloud": {},
  "kernelspec": {
   "display_name": "Python 3",
   "language": "python",
   "name": "python3"
  },
  "language_info": {
   "codemirror_mode": {
    "name": "ipython",
    "version": 3
   },
   "file_extension": ".py",
   "mimetype": "text/x-python",
   "name": "python",
   "nbconvert_exporter": "python",
   "pygments_lexer": "ipython3",
   "version": "3.5.2"
  }
 },
 "nbformat": 4,
 "nbformat_minor": 1
}
