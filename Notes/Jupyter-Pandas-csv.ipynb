{
 "cells": [
  {
   "cell_type": "markdown",
   "metadata": {},
   "source": [
    "# Pandas CSV Example\n",
    "Below is a simple example of generating data for a Pandas dataframe, writing the dataframe to a csv file, and reading the data in from a csv file"
   ]
  },
  {
   "cell_type": "code",
   "execution_count": 10,
   "metadata": {
    "collapsed": false
   },
   "outputs": [
    {
     "name": "stdout",
     "output_type": "stream",
     "text": [
      "                   A         B         C         D\n",
      "2013-01-01  1.863937 -1.082501 -2.475209 -1.084135\n",
      "2013-01-02  0.875623  0.756714 -0.540306  0.524275\n",
      "2013-01-03 -0.219036 -0.326986 -0.969330 -0.220324\n",
      "2013-01-04  0.223401 -0.316074 -1.809133 -1.108741\n",
      "2013-01-05 -1.754511  0.676867 -0.275455  0.671367\n",
      "2013-01-06  0.475873  1.346905  0.522529 -0.064459\n"
     ]
    }
   ],
   "source": [
    "import pandas as pd\n",
    "import numpy as np\n",
    "dates = pd.date_range('20130101',periods=6)\n",
    "df = pd.DataFrame(np.random.randn(6,4),index=dates,columns=list('ABCD'))\n",
    "\n",
    "print(df)"
   ]
  },
  {
   "cell_type": "code",
   "execution_count": 11,
   "metadata": {
    "collapsed": false
   },
   "outputs": [],
   "source": [
    "df.to_csv(\"testData.csv\")"
   ]
  },
  {
   "cell_type": "code",
   "execution_count": 12,
   "metadata": {
    "collapsed": false
   },
   "outputs": [
    {
     "name": "stdout",
     "output_type": "stream",
     "text": [
      "                   A         B         C         D\n",
      "2013-01-01  1.863937 -1.082501 -2.475209 -1.084135\n",
      "2013-01-02  0.875623  0.756714 -0.540306  0.524275\n",
      "2013-01-03 -0.219036 -0.326986 -0.969330 -0.220324\n",
      "2013-01-04  0.223401 -0.316074 -1.809133 -1.108741\n",
      "2013-01-05 -1.754511  0.676867 -0.275455  0.671367\n",
      "2013-01-06  0.475873  1.346905  0.522529 -0.064459\n"
     ]
    }
   ],
   "source": [
    "df2 = pd.DataFrame.from_csv(\"testData.csv\")\n",
    "print(df2)"
   ]
  },
  {
   "cell_type": "code",
   "execution_count": null,
   "metadata": {
    "collapsed": true
   },
   "outputs": [],
   "source": []
  }
 ],
 "metadata": {
  "kernelspec": {
   "display_name": "Python 2",
   "language": "python",
   "name": "python2"
  },
  "language_info": {
   "codemirror_mode": {
    "name": "ipython",
    "version": 2
   },
   "file_extension": ".py",
   "mimetype": "text/x-python",
   "name": "python",
   "nbconvert_exporter": "python",
   "pygments_lexer": "ipython2",
   "version": "2.7.12"
  }
 },
 "nbformat": 4,
 "nbformat_minor": 2
}
