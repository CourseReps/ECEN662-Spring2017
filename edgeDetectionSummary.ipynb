{
 "cells": [
  {
   "cell_type": "markdown",
   "metadata": {},
   "source": [
    "## Edge detection\n",
    "Edge detection is considered to distinguish synthetic and natural images.\n",
    "Natural images, which have greater sources of distortion and less perfect lighting, are expected to have a greater number of pixels detectable as edges.\n",
    "\n",
    "### Approach\n",
    "Gradient-based edge detection is used.\n",
    "Pixels for which the gradient exceeds a fixed threshold are classified as edges.\n",
    "The threshold is determined using a training set of 23 each synthetic and natural images.\n",
    "The following figure shows normalized histograms of the pixel gradients across all images in the data sets.\n",
    "\n",
    "[Img]\n",
    "\n",
    "This threshold is applied to the same training set.\n",
    "The total "
   ]
  }
 ],
 "metadata": {
  "anaconda-cloud": {},
  "kernelspec": {
   "display_name": "Python [conda root]",
   "language": "python",
   "name": "conda-root-py"
  },
  "language_info": {
   "codemirror_mode": {
    "name": "ipython",
    "version": 3
   },
   "file_extension": ".py",
   "mimetype": "text/x-python",
   "name": "python",
   "nbconvert_exporter": "python",
   "pygments_lexer": "ipython3",
   "version": "3.5.2"
  }
 },
 "nbformat": 4,
 "nbformat_minor": 1
}
