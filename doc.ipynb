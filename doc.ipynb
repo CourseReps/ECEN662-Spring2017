{
 "cells": [
  {
   "cell_type": "markdown",
   "metadata": {},
   "source": [
    "# ECEN 662 Group Project\n",
    "## Synthetic image detection\n",
    "## Authors: \n",
    "[//]: # (Outline)\n",
    "[//]: # (  Models)\n",
    "[//]: # (  Training)\n",
    "[//]: # (  Testing)\n",
    "\n",
    "## Introduction\n",
    "\n",
    "The objective of this project is to design a model-based test capable of automatically differentiating between computer-generated (synthetic) images and natural images (scenes).\n",
    "\n",
    "## Models\n",
    "\n",
    "### Background\n",
    "\n",
    "### Synthetic image model\n",
    "\n",
    "### Scene model\n",
    "\n",
    "## Evaluation\n",
    "\n",
    "### Training\n",
    "\n",
    "### Testing\n"
   ]
  },
  {
   "cell_type": "code",
   "execution_count": null,
   "metadata": {
    "collapsed": true
   },
   "outputs": [],
   "source": []
  }
 ],
 "metadata": {
  "anaconda-cloud": {},
  "kernelspec": {
   "display_name": "Python [conda root]",
   "language": "python",
   "name": "conda-root-py"
  },
  "language_info": {
   "codemirror_mode": {
    "name": "ipython",
    "version": 3
   },
   "file_extension": ".py",
   "mimetype": "text/x-python",
   "name": "python",
   "nbconvert_exporter": "python",
   "pygments_lexer": "ipython3",
   "version": "3.5.2"
  }
 },
 "nbformat": 4,
 "nbformat_minor": 1
}
