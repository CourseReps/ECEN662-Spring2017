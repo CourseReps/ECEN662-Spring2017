{
 "cells": [
  {
   "cell_type": "markdown",
   "metadata": {},
   "source": [
    "# *Classify Real Images and Computer Generated Images*"
   ]
  },
  {
   "cell_type": "markdown",
   "metadata": {
    "collapsed": false
   },
   "source": [
    "## I) Strategy Explanation:\n",
    "\n",
    "* Feacture of interest: sharpness of peak values within RGB histograms\n",
    "* Feature metric: sum of squared maximum difference within subhistogram around max values\n",
    "\n",
    "\n",
    "* Code Snipet:\n",
    "~~~~\n",
    "    Rmaxdiff = np.diff(Rsubhist).max()\n",
    "    Gmaxdiff = np.diff(Gsubhist).max()\n",
    "    Bmaxdiff = np.diff(Bsubhist).max()\n",
    "\n",
    "    metric = pow(Rmaxdiff,2)+pow(Gmaxdiff,2)+pow(Bmaxdiff,2)\n",
    "~~~~\n"
   ]
  },
  {
   "cell_type": "markdown",
   "metadata": {},
   "source": [
    "### Example of Scene RGB Histogram:\n",
    "\n",
    "<img src=\"sceneRhist.png\">\n",
    "\n",
    "### Example of Synthetic RGB Histogram:\n",
    "\n",
    "<img src=\"synthRhist.png\">"
   ]
  },
  {
   "cell_type": "markdown",
   "metadata": {
    "collapsed": true
   },
   "source": [
    "## II) Determine Threshold Rule"
   ]
  },
  {
   "cell_type": "markdown",
   "metadata": {
    "collapsed": true
   },
   "source": [
    "### Method Explanation:\n",
    "\n",
    "* Distribution fit: after several different attempts to fit a distribution to the metric histograms, cauchy CDFs were chosen\n",
    "* Threshold: the decision region for both hypotheses was decided by using a threshold on the Log Likelihood Ratio. The threshold on the feature metric value was found to be 3.8e-5\n"
   ]
  },
  {
   "cell_type": "markdown",
   "metadata": {},
   "source": [
    "### Feature Metric Histograms:\n",
    "\n",
    "<img src=\"metrichistogram.png\">"
   ]
  },
  {
   "cell_type": "markdown",
   "metadata": {},
   "source": [
    "### Fitted Distribution Plot:\n",
    "\n",
    "<img src=\"fitteddists.png\">"
   ]
  },
  {
   "cell_type": "markdown",
   "metadata": {},
   "source": [
    "## III) Analysis"
   ]
  },
  {
   "cell_type": "markdown",
   "metadata": {},
   "source": [
    "### Performance\n",
    "\n",
    "* False Positive Rate:    *0.415*\n",
    "* False Negative Rate:    *0.163*\n",
    "\n",
    "* Overal Error Rate:      *0.289*"
   ]
  },
  {
   "cell_type": "markdown",
   "metadata": {},
   "source": [
    "### Conclusions\n",
    "\n",
    "* Ultimately this method seems mediocre. I was hoping that by maintaining the RGB values instead of converting to grayscale better performance could be achieved.\n",
    "* This method works well for computer generated images which are dominated by a few colors, thus it is more limiting than other methods.\n",
    "* Analyzing this problem within the Fourier Domain space seems more robust than analyzing color or intensity sharpness. There were several images within the scene set which would have been very difficult to distinguish based on predominating color. \n",
    "\n",
    "#### Example:\n",
    "\n",
    "<img src=\"monkey.jpg\">\n",
    "\n",
    "* This image is dominated by the light blue color within the background. For this reason, it was an extreme case which could not be correctly classified\n"
   ]
  },
  {
   "cell_type": "markdown",
   "metadata": {},
   "source": [
    "## III) Notes"
   ]
  },
  {
   "cell_type": "markdown",
   "metadata": {},
   "source": [
    "* For some reason, I could not get the jupyter notebook to run my code within a reasonable amount of time, this is the reason behind my lack of code above."
   ]
  },
  {
   "cell_type": "code",
   "execution_count": null,
   "metadata": {
    "collapsed": true
   },
   "outputs": [],
   "source": []
  }
 ],
 "metadata": {
  "kernelspec": {
   "display_name": "Python 3",
   "language": "python",
   "name": "python3"
  },
  "language_info": {
   "codemirror_mode": {
    "name": "ipython",
    "version": 3
   },
   "file_extension": ".py",
   "mimetype": "text/x-python",
   "name": "python",
   "nbconvert_exporter": "python",
   "pygments_lexer": "ipython3",
   "version": "3.5.1"
  }
 },
 "nbformat": 4,
 "nbformat_minor": 2
}
