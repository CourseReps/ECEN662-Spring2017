{
 "cells": [
  {
   "cell_type": "code",
   "execution_count": 1,
   "metadata": {
    "collapsed": true
   },
   "outputs": [],
   "source": [
    "import matplotlib.pyplot as plt\n",
    "import numpy as np\n",
    "from scipy.stats import laplace, cauchy\n",
    "\n",
    "# domain over which to evalulate pdfs\n",
    "x = np.linspace(-4, 4, 200)"
   ]
  },
  {
   "cell_type": "markdown",
   "metadata": {},
   "source": [
    "# Laplace log-likelihood"
   ]
  },
  {
   "cell_type": "code",
   "execution_count": 7,
   "metadata": {
    "collapsed": false
   },
   "outputs": [],
   "source": [
    "fig, ax1 = plt.subplots()\n",
    "\n",
    "# laplace parameters\n",
    "mu=(-1,1)\n",
    "b=(2,3)\n",
    "\n",
    "# evaluate pdfs\n",
    "laplace_pdf = (laplace.pdf(x,mu[0],b[0]), laplace.pdf(x,mu[1],b[1]) )\n",
    "\n",
    "# plot pdfs\n",
    "ax1.plot(x,laplace_pdf[0],'b-')\n",
    "ax1.plot(x,laplace_pdf[1],'r-')\n",
    "\n",
    "# plot log-likelihood\n",
    "ax2 = ax1.twinx()\n",
    "ax2.plot(x,np.log(laplace_pdf[0]) - np.log(laplace_pdf[1]),'k--')\n",
    "\n",
    "plt.show()"
   ]
  },
  {
   "cell_type": "markdown",
   "metadata": {},
   "source": [
    "# Cauchy likelihood"
   ]
  },
  {
   "cell_type": "code",
   "execution_count": 8,
   "metadata": {
    "collapsed": true
   },
   "outputs": [],
   "source": [
    "fig2, ax3 = plt.subplots()\n",
    "\n",
    "# cauchy parameters\n",
    "x0=(-1,1)\n",
    "y=(2,3)\n",
    "\n",
    "# evaluate pdfs\n",
    "cauchy_pdf = (cauchy.pdf(x,x0[0],y[0]), cauchy.pdf(x,x0[1],y[1]) )\n",
    "\n",
    "# plot pdfs\n",
    "ax3.plot(x,cauchy_pdf[0],'b-')\n",
    "ax3.plot(x,cauchy_pdf[1],'r-')\n",
    "\n",
    "# plot likelihood\n",
    "ax4 = ax3.twinx()\n",
    "ax4.plot(x,cauchy_pdf[0]/cauchy_pdf[1],'k--')\n",
    "\n",
    "plt.show()"
   ]
  },
  {
   "cell_type": "code",
   "execution_count": null,
   "metadata": {
    "collapsed": true
   },
   "outputs": [],
   "source": []
  }
 ],
 "metadata": {
  "anaconda-cloud": {},
  "kernelspec": {
   "display_name": "Python 2",
   "language": "python",
   "name": "python2"
  },
  "language_info": {
   "codemirror_mode": {
    "name": "ipython",
    "version": 2
   },
   "file_extension": ".py",
   "mimetype": "text/x-python",
   "name": "python",
   "nbconvert_exporter": "python",
   "pygments_lexer": "ipython2",
   "version": "2.7.6"
  }
 },
 "nbformat": 4,
 "nbformat_minor": 1
}
