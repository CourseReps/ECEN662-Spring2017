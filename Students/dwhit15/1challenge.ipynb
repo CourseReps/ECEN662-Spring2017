{
 "cells": [
  {
   "cell_type": "markdown",
   "metadata": {},
   "source": [
    "# ROC Curves \n",
    "Normal, Laplace, and Cauchy with Shifted Means and Variances"
   ]
  },
  {
   "cell_type": "markdown",
   "metadata": {},
   "source": [
    "## Import packages and define functions."
   ]
  },
  {
   "cell_type": "code",
   "execution_count": 1,
   "metadata": {
    "collapsed": true
   },
   "outputs": [],
   "source": [
    "import matplotlib.pyplot as plt\n",
    "import numpy as np\n",
    "from numpy import log\n",
    "from scipy.stats import laplace, cauchy, norm\n",
    "\n",
    "plt.close(\"all\")\n",
    "\n",
    "def log_likelihood_ratio(pdfs):\n",
    "    \"\"\"\n",
    "    Log likelihood ratio of two pdfs.\n",
    "    \"\"\"\n",
    "    return log(pdfs[1])-log(pdfs[0])\n",
    "    \n",
    "def likelihood_ratio(pdfs):\n",
    "    \"\"\"\n",
    "    Likelihood ratio of two pdfs.\n",
    "    \"\"\"\n",
    "    return pdfs[1]/pdfs[0]\n",
    "\n",
    "def positive_regions(thresh,x,likelihood):\n",
    "    \"\"\"\n",
    "    Find the regions of the domain in which the likelihood is greater than the \n",
    "    given threshold. \n",
    "    \"\"\"\n",
    "    regions = []    \n",
    "    left=None\n",
    "    last_i = likelihood.shape[0]-1\n",
    "    for i,val in enumerate(likelihood):\n",
    "        if left is None:\n",
    "            if val >= thresh:\n",
    "                left = x[i]\n",
    "        else:\n",
    "            if val <= thresh:\n",
    "                regions.append((left,x[i-1]))\n",
    "                left=None\n",
    "            elif i == last_i:\n",
    "                regions.append((left,x[i]))\n",
    "    return regions\n",
    "            \n",
    "def probability_of_regions(regions,dist_fun,pdf_parameters):\n",
    "    \"\"\"\n",
    "    Calculates the total probability of one or more regions in the domain \n",
    "    of the given pdf. \n",
    "    \"\"\"\n",
    "    prob = 0.\n",
    "    for r in regions:\n",
    "        prob += (dist_fun.cdf(r[1],**pdf_parameters) - \n",
    "                    dist_fun.cdf(r[0],**pdf_parameters) )\n",
    "    return prob\n",
    "\n",
    "def ROC_from_pdf(x,like_fun,dist_fun, pdf_parameters,name):\n",
    "    \"\"\"\n",
    "    Plots the the Negative and Positive probability density functions, the \n",
    "    likelihood, and ROC.\n",
    "    \n",
    "    PARAMETERS\n",
    "    ----------\n",
    "    x: ndarray\n",
    "        Domain over which to evalulate pdfs.\n",
    "    like_fun: function\n",
    "        Function that calculates likelihood.\n",
    "    dist_fun: function\n",
    "        One of the scipy.stats distribution functions.\n",
    "    pdf_parameters: tuple \n",
    "        `pdf_parameters` is a tuple of length 2 that contains the  \n",
    "        parameters of the negative and positive pdf parameters, respectively.\n",
    "    name: str\n",
    "        What to call the resulting figure.\n",
    "    \"\"\"\n",
    "    # setup figure\n",
    "    fig, plots = plt.subplots(1,2,figsize=(12,6))\n",
    "    fig.canvas.set_window_title(name)\n",
    "    pdf_plot, roc_plot = plots\n",
    "    pdf_plot.set_title(\"PDF\")\n",
    "    pdf_plot.set_xlabel(\"x\")\n",
    "    pdf_plot.set_ylabel(\"p(x)\")\n",
    "    roc_plot.set_title(\"ROC\")\n",
    "    roc_plot.set_xlabel(\"Probability False Alarm\")\n",
    "    roc_plot.set_ylabel(\"Probability Detection\")\n",
    "    threshold_plot = pdf_plot.twinx()\n",
    "    if like_fun == likelihood_ratio:\n",
    "        threshold_plot.set_ylabel(\"Likelihood Ratio\")\n",
    "    elif like_fun == log_likelihood_ratio:\n",
    "        threshold_plot.set_ylabel(\"Log Likelihood Ratio\")\n",
    "    fig.tight_layout()\n",
    "    \n",
    "    # find negative and positive pdfs\n",
    "    pdfs = (dist_fun.pdf(x,**pdf_parameters[0]), dist_fun.pdf(x,**pdf_parameters[1]) )\n",
    "    \n",
    "    # plot pdfs\n",
    "    pdf_plot.plot(x,pdfs[0],'b-',label=\"Negative\")\n",
    "    pdf_plot.plot(x,pdfs[1],'r-',label=\"Positive\")\n",
    "    pdf_plot.legend()\n",
    "    \n",
    "    # find and plot likelihood\n",
    "    like = like_fun(pdfs)\n",
    "    threshold_plot.plot(x,like,'k--')\n",
    "    \n",
    "    # calculate probability of false alarm and false positive\n",
    "    P_detect = np.zeros_like(x)\n",
    "    P_false_alarm = np.zeros_like(x)\n",
    "    for i,thresh in enumerate(like):\n",
    "        regions = positive_regions(thresh,x,like)\n",
    "        P_detect[i]  = probability_of_regions(regions,dist_fun,pdf_parameters[1])\n",
    "        P_false_alarm[i]  = probability_of_regions(regions,dist_fun,pdf_parameters[0])\n",
    "\n",
    "    # plot ROC\n",
    "    roc_plot.plot(P_false_alarm,P_detect,'g')"
   ]
  },
  {
   "cell_type": "markdown",
   "metadata": {},
   "source": [
    "## Define domain and PDF parameters."
   ]
  },
  {
   "cell_type": "code",
   "execution_count": 2,
   "metadata": {
    "collapsed": true
   },
   "outputs": [],
   "source": [
    "# domain over which to evalulate pdfs\n",
    "x = np.arange(-20, 20, 0.01)\n",
    "\n",
    "# negative pdf parameters\n",
    "params_negative = dict(loc=-2,scale=1)\n",
    "# positive pdf parameters\n",
    "params_positive = dict(loc=2,scale=2)\n",
    "# package parameters\n",
    "pdf_params = (params_negative,params_positive)"
   ]
  },
  {
   "cell_type": "markdown",
   "metadata": {
    "collapsed": true
   },
   "source": [
    "## Normal"
   ]
  },
  {
   "cell_type": "code",
   "execution_count": 3,
   "metadata": {
    "collapsed": true
   },
   "outputs": [],
   "source": [
    "# draw ROC for normal distribution \n",
    "ROC_from_pdf(x,log_likelihood_ratio,norm,pdf_params,\"Normal\")\n",
    "\n",
    "plt.show()"
   ]
  },
  {
   "cell_type": "markdown",
   "metadata": {},
   "source": [
    "## Cauchy"
   ]
  },
  {
   "cell_type": "code",
   "execution_count": 4,
   "metadata": {
    "collapsed": true
   },
   "outputs": [],
   "source": [
    "# draw ROC for cauchy distribution \n",
    "ROC_from_pdf(x,likelihood_ratio,cauchy,pdf_params,\"Cauchy\")\n",
    "\n",
    "plt.show()"
   ]
  },
  {
   "cell_type": "markdown",
   "metadata": {},
   "source": [
    "## Laplace"
   ]
  },
  {
   "cell_type": "code",
   "execution_count": 5,
   "metadata": {
    "collapsed": true
   },
   "outputs": [],
   "source": [
    "# draw ROC for laplace distribution \n",
    "ROC_from_pdf(x,log_likelihood_ratio,laplace,pdf_params,\"Laplace\")\n",
    "\n",
    "plt.show()"
   ]
  },
  {
   "cell_type": "code",
   "execution_count": null,
   "metadata": {
    "collapsed": true
   },
   "outputs": [],
   "source": []
  }
 ],
 "metadata": {
  "anaconda-cloud": {},
  "kernelspec": {
   "display_name": "Python 2",
   "language": "python",
   "name": "python2"
  },
  "language_info": {
   "codemirror_mode": {
    "name": "ipython",
    "version": 2
   },
   "file_extension": ".py",
   "mimetype": "text/x-python",
   "name": "python",
   "nbconvert_exporter": "python",
   "pygments_lexer": "ipython2",
   "version": "2.7.6"
  }
 },
 "nbformat": 4,
 "nbformat_minor": 1
}
