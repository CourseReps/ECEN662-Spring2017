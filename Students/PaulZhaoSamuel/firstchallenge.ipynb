{
 "cells": [
  {
   "cell_type": "markdown",
   "metadata": {},
   "source": [
    "# Likelihood Functions\n",
    "\n",
    "The likelihood ratio for two Gaussian distributions with shifted means and equal variance is monotone.\n",
    "As such, a threshold test on the likelihood ratio becomes equivalent to a threshold test on the observed value.\n",
    "Two such distributions and their likelihood ratio appear below."
   ]
  },
  {
   "cell_type": "code",
   "execution_count": null,
   "metadata": {
    "collapsed": false
   },
   "outputs": [],
   "source": [
    "import matplotlib.pyplot as plt\n",
    "import numpy as np\n",
    "import matplotlib.mlab as mlab\n",
    "import math\n",
    "\n",
    "fig, ax1 = plt.subplots()\n",
    "mu0 = -1\n",
    "variance0 = 1\n",
    "sigma0 = math.sqrt(variance0)\n",
    "x = np.linspace(-4, 4, 200)\n",
    "ax1.plot(x,mlab.normpdf(x, mu0, sigma0))\n",
    "\n",
    "mu1 = 1\n",
    "variance1 = 1\n",
    "sigma1 = math.sqrt(variance1)\n",
    "x = np.linspace(-4, 4, 200)\n",
    "ax1.plot(x,mlab.normpdf(x, mu1, sigma1),color='r')\n",
    "\n",
    "ax2 = ax1.twinx()\n",
     "ax2.plot(x,np.log(mlab.normpdf(x, mu1, sigma1)) - np.log(mlab.normpdf(x, mu0, sigma0)),'k--')\n",
    "\n",
    "plt.show()\n",
    "\n"
   ]
  },
  {
   "cell_type": "markdown",
   "metadata": {},
   "source": [
    "## Example of ROC curves"
   ]
  },
  {
   "cell_type": "code",
   "execution_count": null,
   "metadata": {
    "collapsed": false
   },
   "outputs": [],
   "source": [
    "from scipy.stats import norm\n",
    "\n",
    "fig, ax1 = plt.subplots()\n",
    "\n",
    "x = np.linspace(-4, 4, 200)\n",
    "mu = np.linspace(0.25, 1.5, 6)\n",
    "for index in range(5):\n",
    "    mu0 = -mu[index]\n",
    "    mu1 = mu[index]\n",
    "    ax1.plot(norm.cdf((x-mu1)/sigma1),norm.cdf((x-mu0)/sigma0))\n",
    "plt.show()"
   ]
  },
  {
    "cell_type": "markdown",
   "metadata": {},
   "source": [
    "In general, the likelihood ratio need not be a monotone function.\n",
    "Consider the example below where two Gaussian distributions, with different means and variances."
   ]
  },
  {
   "cell_type": "code",
   "execution_count": null,
   "metadata": {
    "collapsed": false
   },
   "outputs": [],
   "source": [
    "fig, ax1 = plt.subplots()\n",
    "\n",
    "mu0 = -1\n",
    "variance0 = 1\n",
    "sigma0 = math.sqrt(variance0)\n",
    "x = np.linspace(-4, 4, 200)\n",
    "ax1.plot(x,mlab.normpdf(x, mu0, sigma0),'b-')\n",
    "\n",
    "mu1 = 1\n",
    "variance1 = 9\n",
    "sigma1 = math.sqrt(variance1)\n",
    "x = np.linspace(-4, 4, 200)\n",
    "ax1.plot(x,mlab.normpdf(x, mu1, sigma1),'r-')\n",
    "\n",
    "ax2 = ax1.twinx()\n",
    "ax2.plot(x,np.log(mlab.normpdf(x, mu1, sigma1)) - np.log(mlab.normpdf(x, mu0, sigma0)),'k--')\n",
    "\n",
    "plt.show()\n",
    "\n"
   ]
  }
 ],
 "metadata": {
  "anaconda-cloud": {},
  "kernelspec": {
    "display_name": "Python 3",
   "language": "python",
   "name": "python3"
  },
  "language_info": {
   "codemirror_mode": {
    "name": "ipython",
    "version": 3
   },
   "file_extension": ".py",
   "mimetype": "text/x-python",
   "name": "python",
   "nbconvert_exporter": "python",
   "pygments_lexer": "ipython3",
   "version": "3.5.2"
  }
 },
 "nbformat": 4,
 "nbformat_minor": 1
}
