{
 "cells": [
  {
   "cell_type": "markdown",
   "metadata": {},
   "source": [
    "### Generic code:\n",
    "\n",
    "Developed below are some simple functions to retrieve all the images in a directory as a list and a function to convert a function into gray scale."
   ]
  },
  {
   "cell_type": "code",
   "execution_count": null,
   "metadata": {
    "collapsed": false
   },
   "outputs": [],
   "source": [
    "from PIL import Image\n",
    "import numpy as np\n",
    "import matplotlib.colors as colors\n",
    "import matplotlib.pyplot as plt\n",
    "import matplotlib.mlab as mlab\n",
    "import math\n",
    "import os\n",
    "import pandas as pd\n",
    "import seaborn as sns\n",
    "\n",
    "def getimagelist(dir):    \n",
    "    img_list = []\n",
    "    for file in os.listdir(dir):\n",
    "        if file.endswith('.jpg') or file.endswith('.png') or file.endswith('.jpeg'):\n",
    "            img_list.append(file)\n",
    "    return img_list\n",
    "    \n",
    "def rgb2gray(rgb):\n",
    "    return np.dot(rgb[...,:3], [0.299, 0.587, 0.114])"
   ]
  },
  {
   "cell_type": "markdown",
   "metadata": {},
   "source": [
    "### Gray Histogram"
   ]
  },
  {
   "cell_type": "code",
   "execution_count": null,
   "metadata": {
    "collapsed": true
   },
   "outputs": [],
   "source": [
    "def getgrayhist(im):\n",
    "    im_arr = rgb2gray(np.array(im))\n",
    "    gray_hist = np.zeros((256,1))\n",
    "    for i in range(0,im_arr.shape[0]):\n",
    "        for j in range(0,im_arr.shape[1]):\n",
    "            gray_hist[int(im_arr[i,j])] += 1\n",
    "    gray_hist = gray_hist/im_arr.size\n",
    "    return gray_hist"
   ]
  },
  {
   "cell_type": "markdown",
   "metadata": {},
   "source": [
    "### Smoothness of the histogram:"
   ]
  },
  {
   "cell_type": "code",
   "execution_count": null,
   "metadata": {
    "collapsed": false
   },
   "outputs": [],
   "source": [
    "def getsmoothness(hist):\n",
    "    smoothness = 0;\n",
    "    for i in range(len(hist)-1):\n",
    "        smoothness += np.absolute(hist[i]-hist[i+1])\n",
    "    return smoothness"
   ]
  },
  {
   "cell_type": "markdown",
   "metadata": {},
   "source": [
    "### Training the model : "
   ]
  },
  {
   "cell_type": "code",
   "execution_count": null,
   "metadata": {
    "collapsed": false
   },
   "outputs": [],
   "source": [
    "natural_dir = '/Users/vikas/PycharmProjects/ECEN662/ImageProject/TrainingSetScenes'\n",
    "synthetic_dir = '/Users/vikas/PycharmProjects/ECEN662/ImageProject/TrainingSetSynthetic'\n",
    "natural_list = getimagelist(natural_dir)\n",
    "synthetic_list = getimagelist(synthetic_dir)\n",
    "\n",
    "\n",
    "size = np.minimum(len(natural_list),len(synthetic_list))\n",
    "# Natural Images\n",
    "natural_smoothness = np.zeros((size,1))\n",
    "for i in range(size):\n",
    "    scene = natural_list[i]\n",
    "    img = Image.open(os.path.join(natural_dir, scene))\n",
    "    img = img.resize((256, 256), Image.ANTIALIAS)\n",
    "    hist = getgrayhist(img)\n",
    "    natural_smoothness[i] = getsmoothness(hist)\n",
    "    img.close()\n",
    "    \n",
    "# Synthetic Image\n",
    "synthetic_smoothness = np.zeros((size,1))\n",
    "for i in range(size):\n",
    "    cgi = synthetic_list[i]\n",
    "    img = Image.open(os.path.join(synthetic_dir, cgi))\n",
    "    img = img.resize((256, 256), Image.ANTIALIAS)\n",
    "    hist = getgrayhist(img)\n",
    "    synthetic_smoothness[i] = getsmoothness(hist)\n",
    "    img.close() \n",
    "    \n",
    "smoothness = {'Natural': natural_smoothness[0:size-1,0],\n",
    "              'Synthetic':synthetic_smoothness[0:size-1,0]}\n",
    "\n",
    "sm_df = pd.DataFrame(smoothness)\n",
    "sm_df.to_csv('HistSmoothResult.csv')"
   ]
  },
  {
   "cell_type": "markdown",
   "metadata": {},
   "source": [
    "### Distribution of the feature:"
   ]
  },
  {
   "cell_type": "code",
   "execution_count": null,
   "metadata": {
    "collapsed": false
   },
   "outputs": [],
   "source": [
    "train_df = pd.read_csv('HistSmoothResult.csv')\n",
    "natural_list = np.array(train_df.Natural.values)\n",
    "synthetic_list = np.array(train_df.Synthetic.values)\n",
    "\n",
    "mu = [np.mean(natural_list),np.mean(synthetic_list)]\n",
    "var = [np.var(natural_list), np.var(synthetic_list)]\n",
    "\n",
    "# sns.distplot(natural_list, label='Natural')\n",
    "# sns.distplot(synthetic_list, label='Synthetic')\n",
    "# plt.legend()\n",
    "# plt.show()"
   ]
  },
  {
   "cell_type": "markdown",
   "metadata": {
    "collapsed": true
   },
   "source": [
    "### Decision Rule:"
   ]
  },
  {
   "cell_type": "code",
   "execution_count": null,
   "metadata": {
    "collapsed": false,
    "scrolled": false
   },
   "outputs": [],
   "source": [
    "def executedecisionrule(test_path):\n",
    "    test_list = getimagelist(test_path)\n",
    "    res_list = []\n",
    "    smt_list = []\n",
    "    thr = 0.22\n",
    "    for test in test_list:\n",
    "        \n",
    "        test_img = Image.open(os.path.join(test_path, test))\n",
    "        hist = getgrayhist(test_img)\n",
    "        sm = getsmoothness(hist)\n",
    "        smt_list.append(sm)\n",
    "        \n",
    "        # threshold test\n",
    "        res = 1 if sm>(thr) else 0\n",
    "        res_list.append(res)\n",
    "        test_img.close()\n",
    "        \n",
    "    return [res_list,smt_list]"
   ]
  },
  {
   "cell_type": "markdown",
   "metadata": {},
   "source": [
    "### Performance:"
   ]
  },
  {
   "cell_type": "code",
   "execution_count": null,
   "metadata": {
    "collapsed": false
   },
   "outputs": [],
   "source": [
    "natural_dir = '/Users/vikas/PycharmProjects/ECEN662/ImageProject/Natural'\n",
    "synthetic_dir = '/Users/vikas/PycharmProjects/ECEN662/ImageProject/Synthetic'\n",
    "[nat_res, nat_smt] = executedecisionrule(natural_dir)\n",
    "[syn_res, syn_smt] = executedecisionrule(synthetic_dir)"
   ]
  },
  {
   "cell_type": "code",
   "execution_count": null,
   "metadata": {
    "collapsed": false
   },
   "outputs": [],
   "source": [
    "np.mean(nat_res) # Probability of false alarm."
   ]
  },
  {
   "cell_type": "code",
   "execution_count": null,
   "metadata": {
    "collapsed": false
   },
   "outputs": [],
   "source": [
    "np.mean(syn_res) # Probability of detection."
   ]
  },
  {
   "cell_type": "code",
   "execution_count": 10,
   "metadata": {
    "collapsed": false
   },
   "outputs": [
    {
     "data": {
      "image/png": "[encoded data removed]",
      "text/plain": [
       "<matplotlib.figure.Figure at 0x10a7ae240>"
      ]
     },
     "metadata": {},
     "output_type": "display_data"
    }
   ],
   "source": [
    "y = np.arange(120)\n",
    "plt.scatter(np.arange(len(nat_smt)),nat_smt, marker='.', color='g', label='Natural Smoothness')\n",
    "plt.scatter(np.arange(len(syn_smt)),syn_smt, marker='x', color='r', label='Synthetic Smoothness')\n",
    "thr = [0.22 for i in y]\n",
    "plt.plot(y,thr,'k--', label='Threshold')\n",
    "plt.legend()\n",
    "plt.show()"
   ]
  },
  {
   "cell_type": "code",
   "execution_count": null,
   "metadata": {
    "collapsed": true
   },
   "outputs": [],
   "source": []
  }
 ],
 "metadata": {
  "anaconda-cloud": {},
  "kernelspec": {
   "display_name": "Python [default]",
   "language": "python",
   "name": "python3"
  },
  "language_info": {
   "codemirror_mode": {
    "name": "ipython",
    "version": 3
   },
   "file_extension": ".py",
   "mimetype": "text/x-python",
   "name": "python",
   "nbconvert_exporter": "python",
   "pygments_lexer": "ipython3",
   "version": "3.5.2"
  }
 },
 "nbformat": 4,
 "nbformat_minor": 1
}
