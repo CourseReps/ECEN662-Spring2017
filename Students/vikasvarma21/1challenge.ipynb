{
 "cells": [
  {
   "cell_type": "markdown",
   "metadata": {},
   "source": [
    "# Receiver Operating Characteristic (ROC) Curves\n",
    "\n",
    "Receiver operating characteristic curves are plots of probability of detection against the probability of false-alarm for a binary classifier system. These plots are used to illustrate the performace of a binary classifier as the threshold is varied."
   ]
  },
  {
   "cell_type": "markdown",
   "metadata": {},
   "source": [
    "## ROC Curve for Laplace Distribution\n",
    "\n",
    "This cell plots the ROC Curve for two laplace distributions with mean separated by {0.5,1,1.5,2 and 2.5} respectively, both having a scaling factor of 1. "
   ]
  },
  {
   "cell_type": "code",
   "execution_count": null,
   "metadata": {
    "collapsed": false,
    "scrolled": true
   },
   "outputs": [],
   "source": [
    "import scipy.stats\n",
    "import matplotlib.pyplot as plt\n",
    "import numpy as np\n",
    "import matplotlib.mlab as mlab\n",
    "import math\n",
    "\n",
    "fig1, ax1 = plt.subplots()\n",
    "#Scale Factor (b)\n",
    "l_scl = 1.0\n",
    "x = np.linspace(-4, 4, 200)\n",
    "mu = np.linspace(0.25,1.5, 6)\n",
    "for index in range(5):\n",
    "    mu0 = -mu[index]\n",
    "    mu1 = mu[index]\n",
    "    ax1.plot(scipy.stats.laplace.cdf(x,loc=mu1,scale=l_scl),scipy.stats.laplace.cdf(x,loc=mu0,scale=l_scl))\n",
    "    ax1.set_xlabel('Probability of False Positive')\n",
    "    ax1.set_ylabel('Probability of Detection')\n",
    "    ax1.set_title(r'ROC Curve for Laplace Distribution')\n",
    "plt.show()"
   ]
  },
  {
   "cell_type": "markdown",
   "metadata": {},
   "source": [
    "## ROC Curve for Cauchy Distribution\n",
    "\n",
    "This cell plots the ROC Curve for two cauchy distributions with mean separated by {0.5,1,1.5,2 and 2.5} respectively, both having a scaling factor of 1. "
   ]
  },
  {
   "cell_type": "code",
   "execution_count": null,
   "metadata": {
    "collapsed": false
   },
   "outputs": [],
   "source": [
    "fig2, ax2 = plt.subplots()\n",
    "\n",
    "#Scale Factor (Y)\n",
    "c_scl = 1.0;\n",
    "mu = np.linspace(0.25,1.5, 6)\n",
    "y = np.linspace(-50,50,1000)\n",
    "for index in range(5):\n",
    "    mu0 = -mu[index]\n",
    "    mu1 = mu[index]\n",
    "    ax2.plot(scipy.stats.cauchy.cdf(y,loc=mu1,scale=c_scl),scipy.stats.cauchy.cdf(y,loc=mu0,scale=c_scl))\n",
    "    ax2.set_xlabel('Probability of False Positive')\n",
    "    ax2.set_ylabel('Probability of Detection')\n",
    "    ax2.set_title(r'ROC Curve for Cacuhy Distribution')\n",
    "plt.show()"
   ]
  },
  {
   "cell_type": "code",
   "execution_count": null,
   "metadata": {
    "collapsed": true
   },
   "outputs": [],
   "source": []
  }
 ],
 "metadata": {
  "anaconda-cloud": {},
  "kernelspec": {
   "display_name": "Python [default]",
   "language": "python",
   "name": "python3"
  },
  "language_info": {
   "codemirror_mode": {
    "name": "ipython",
    "version": 3
   },
   "file_extension": ".py",
   "mimetype": "text/x-python",
   "name": "python",
   "nbconvert_exporter": "python",
   "pygments_lexer": "ipython3",
   "version": "3.5.2"
  }
 },
 "nbformat": 4,
 "nbformat_minor": 1
}
