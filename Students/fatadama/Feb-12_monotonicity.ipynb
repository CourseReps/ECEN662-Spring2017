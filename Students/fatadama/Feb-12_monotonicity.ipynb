{
 "cells": [
  {
   "cell_type": "code",
   "execution_count": null,
   "metadata": {
    "collapsed": false
   },
   "outputs": [],
   "source": [
    "import numpy as np\n",
    "import matplotlib.pyplot as plt\n",
    "from math import pow\n",
    "import scipy.stats as sps\n",
    "\n",
    "# check calculation of non-monotonic likelihood ratio inflection point\n",
    "sig1 = 1.0\n",
    "sig0 = 0.5\n",
    "# means\n",
    "mu1 = 1.0\n",
    "mu0 = -1.0\n",
    "\n",
    "# inflection point - likelihood increasing for x greater than this point\n",
    "xinfl = -(pow(sig1,2.0)+pow(sig0,2.0))/(pow(sig1,2.0)-pow(sig0,2.0))\n",
    "\n",
    "# plot checks out. Also worth nothing, for finite values of sig0 and sig1, there is always an inflection point for the means selected.\n",
    "\n",
    "print(xinfl)\n",
    "\n",
    "xv = np.linspace(-3.0,3.0,100)\n",
    "L0 = sps.norm.pdf(xv,loc=mu0,scale=sig0)\n",
    "L1 = sps.norm.pdf(xv,loc=mu1,scale=sig1)\n",
    "\n",
    "fig,ax = plt.subplots(2,1)\n",
    "\n",
    "ax[0].plot(xv,L0)\n",
    "ax[0].plot(xv,L1,'r-')\n",
    "ax1 = ax[0].twinx()\n",
    "ax1.plot(xv,L1/L0,'k--')\n",
    "\n",
    "ax[1].plot(xv,np.log10(L1/L0),'k--')\n",
    "\n",
    "plt.show()"
   ]
  },
  {
   "cell_type": "code",
   "execution_count": null,
   "metadata": {
    "collapsed": true
   },
   "outputs": [],
   "source": []
  }
 ],
 "metadata": {
  "anaconda-cloud": {},
  "kernelspec": {
   "display_name": "Python [conda root]",
   "language": "python",
   "name": "conda-root-py"
  },
  "language_info": {
   "codemirror_mode": {
    "name": "ipython",
    "version": 3
   },
   "file_extension": ".py",
   "mimetype": "text/x-python",
   "name": "python",
   "nbconvert_exporter": "python",
   "pygments_lexer": "ipython3",
   "version": "3.5.2"
  }
 },
 "nbformat": 4,
 "nbformat_minor": 1
}
