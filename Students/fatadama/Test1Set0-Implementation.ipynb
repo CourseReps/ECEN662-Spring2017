{
 "cells": [
  {
   "cell_type": "code",
   "execution_count": null,
   "metadata": {
    "collapsed": false
   },
   "outputs": [],
   "source": [
    "import numpy as np\n",
    "import matplotlib.pyplot as plt\n",
    "import pandas as pd\n",
    "import scipy.stats as sps\n",
    "\n",
    "fpath = 'Test1/Data1Set0_fatadama.csv'\n",
    "\n",
    "dataIn = pd.DataFrame.from_csv(fpath)\n",
    "\n",
    "# compute the likelihoods for hypothesis 0 and hypothesis 1\n",
    "mu0 = 0.0\n",
    "mu1 = 1.0\n",
    "sig0 = 1.0\n",
    "sig1 = 1.0\n",
    "\n",
    "# raw data\n",
    "Y = dataIn.values.copy()\n",
    "\n",
    "# likelihoods\n",
    "p0 = sps.norm.pdf(Y,loc=mu0,scale=sig0)\n",
    "p1 = sps.norm.pdf(Y,loc=mu1,scale=sig1)\n",
    "# likelihood ratios is monotonic\n",
    "tau = 1.0\n",
    "# test\n",
    "classes = np.zeros(Y.shape)\n",
    "classes[p1/p0 > tau] = 1.0\n",
    "\n",
    "fig,ax = plt.subplots(2,1)\n",
    "ax[0].plot(Y,np.log10(p1/p0),'bd')\n",
    "ax[0].grid()\n",
    "ax[0].set_title(r'$\\log_{10}$ likelihood ratio functions')\n",
    "\n",
    "ax[1].plot(Y,classes,'x')\n",
    "ax[1].grid()\n",
    "plt.show()\n",
    "\n",
    "# export data\n",
    "testOut = pd.DataFrame({'Y':Y.flatten(),'hypothesis':classes.flatten()})\n",
    "fout = 'Data1Set0_Bayesian'\n",
    "testOut.to_csv(fout)\n",
    "print(\"Wrote out to file %s.csv\" % fout)"
   ]
  },
  {
   "cell_type": "code",
   "execution_count": null,
   "metadata": {
    "collapsed": true
   },
   "outputs": [],
   "source": []
  }
 ],
 "metadata": {
  "anaconda-cloud": {},
  "kernelspec": {
   "display_name": "Python [conda root]",
   "language": "python",
   "name": "conda-root-py"
  },
  "language_info": {
   "codemirror_mode": {
    "name": "ipython",
    "version": 3
   },
   "file_extension": ".py",
   "mimetype": "text/x-python",
   "name": "python",
   "nbconvert_exporter": "python",
   "pygments_lexer": "ipython3",
   "version": "3.5.2"
  }
 },
 "nbformat": 4,
 "nbformat_minor": 1
}
