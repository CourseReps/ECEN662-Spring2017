{
 "cells": [
  {
   "cell_type": "markdown",
   "metadata": {},
   "source": [
    "# Receiver Operating Characteristic Curves\n",
    "\n",
    "In a binary classification problem, Receiver Operating Characteristic (ROC) curves are plots of the probability of detection as a function of the probability of a false positive.\n",
    "Consider two candidate distributions having density functions $p(x;\\theta_0)\\equiv f_0(x)$ and $p(x;\\theta_1)\\equiv f_1(x)$.\n",
    "The test for classification is as follows: if $\\tau < \\frac{f_1(x)}{f_0(x)}$, then $x$ is assumed to be from distribution 1.\n",
    "Otherwise, $x$ is from distribution 0.\n",
    "The ROC curve is generated for all possible values of the likelihood threshold $\\tau$. \n",
    "\n",
    "For distributions having monotonic likelihood ratios, the ROC curve may be plotted simply by using the conditional density function of the underlying distributions.\n",
    "This is straightforward to show.\n",
    "For a particular likelihood threshold $\\tau^*$, since the likelihood ratio $\\frac{f_1(x)}{f_0(x)}$ is monotonic, there exists a unique $x^*$ satisfying $\\tau^*=\\frac{f_1(x^*)}{f_0(x^*)}$.\n",
    "$x^*$ can be computed numerically or analytically.\n",
    "Given $x^*$, the probability of detection is simply the probability that $X > x^*$ given that $X$ is from distribution 1.\n",
    "Mathematically, this can be expressed in terms of the cumulative density function (CDF) $F_1(x)$:\n",
    "\n",
    "\\begin{equation}\n",
    "Pr(X > x^* | \\theta=\\theta_1) = \\int_{x^*}^\\infty f_1(x) \\ dx \\equiv 1-F_1(x^*)\n",
    "\\end{equation}\n",
    "\n",
    "Similarly, the probability of a false positive is simply the probability that $X > x^*$ given that $X$ is from distribution 0.\n",
    "This can be evaluated as $1-F_0(x^*)$.\n",
    "To generate the ROC curve is simply a matter of plotting $1-F_1(x)$ versus $1-F_0(x)$ for all values of $x$ from $-\\infty$ to $\\infty$.\n",
    "\n",
    "Note that we can consider the related problem of detecting distribution 0.\n",
    "In this case, the probability of detection is simply $F_0(x^*)$, and the probability of a false positive is $F_1(x^*)$."
   ]
  },
  {
   "cell_type": "markdown",
   "metadata": {},
   "source": [
    "## Laplace distribution ROC curves\n",
    "\n",
    "The following is an ROC curve associated with two Laplace distributions having the same scale parameter and mean separation of $\\Delta\\mu$."
   ]
  },
  {
   "cell_type": "code",
   "execution_count": null,
   "metadata": {
    "collapsed": false
   },
   "outputs": [],
   "source": [
    "import matplotlib.pyplot as plt\n",
    "import numpy as np\n",
    "import scipy.stats\n",
    "\n",
    "fig, ax1 = plt.subplots()\n",
    "\n",
    "x = np.linspace(-4, 4, 200)\n",
    "mu = np.linspace(0.25, 1.5, 6)\n",
    "# same scale factor for both distributions\n",
    "sigma1 = 1.0\n",
    "sigma0 = 1.0\n",
    "for index in range(5):\n",
    "    mu0 = -mu[index]\n",
    "    mu1 = mu[index]\n",
    "    ax1.plot(1.0-scipy.stats.laplace.cdf(x,loc=mu0,scale=sigma0),1.0-scipy.stats.laplace.cdf(x,loc=mu1,scale=sigma1))\n",
    "    # annotate the means\n",
    "    deltaMu = 2.0*mu[index]\n",
    "    loc=(1.0-scipy.stats.laplace.cdf(x[100],loc=mu0,scale=sigma0),1.0-scipy.stats.laplace.cdf(x[100],loc=mu1,scale=sigma1))\n",
    "    ax1.annotate(r'$\\Delta\\mu$=%5.2f' % deltaMu,xy=loc,horizontalalignment='center')\n",
    "ax1.grid()\n",
    "ax1.set_xlabel('Probability of false positive')\n",
    "ax1.set_ylabel('Probability of detection')\n",
    "ax1.set_title(r'Laplace distributions with mean separation $\\Delta\\mu$')\n",
    "plt.show()"
   ]
  },
  {
   "cell_type": "markdown",
   "metadata": {},
   "source": [
    "# Cauchy distribution ROC Curve\n",
    "\n",
    "\n",
    "The following is an ROC curve associated with two Cauchy distributions having the same scale parameter and mean separation of $\\Delta\\mu$."
   ]
  },
  {
   "cell_type": "code",
   "execution_count": null,
   "metadata": {
    "collapsed": false
   },
   "outputs": [],
   "source": [
    "fig2, ax2 = plt.subplots()\n",
    "\n",
    "x = np.linspace(-25, 25, 200)\n",
    "mu = np.linspace(0.25, 1.5, 6)\n",
    "# same scale factor for both distributions\n",
    "sigma1 = 1.0\n",
    "sigma0 = 1.0\n",
    "for index in range(5):\n",
    "    mu0 = -mu[index]\n",
    "    mu1 = mu[index]\n",
    "    ax2.plot(1.0-scipy.stats.cauchy.cdf(x,loc=mu0,scale=sigma0),1.0-scipy.stats.cauchy.cdf(x,loc=mu1,scale=sigma1))\n",
    "    # annotate the means\n",
    "    deltaMu = 2.0*mu[index]\n",
    "    loc=(1.0-scipy.stats.cauchy.cdf(x[100],loc=mu0,scale=sigma0),1.0-scipy.stats.cauchy.cdf(x[100],loc=mu1,scale=sigma1))\n",
    "    ax2.annotate(r'$\\Delta\\mu$=%5.2f' % deltaMu,xy=loc,horizontalalignment='center')\n",
    "ax2.grid()\n",
    "ax2.set_xlabel('Probability of false positive')\n",
    "ax2.set_ylabel('Probability of detection')\n",
    "ax2.set_title(r'Cauchy distributions with mean separation $\\Delta\\mu$')\n",
    "plt.show()"
   ]
  }
 ],
 "metadata": {
  "anaconda-cloud": {},
  "kernelspec": {
   "display_name": "Python [default]",
   "language": "python",
   "name": "python3"
  },
  "language_info": {
   "codemirror_mode": {
    "name": "ipython",
    "version": 3
   },
   "file_extension": ".py",
   "mimetype": "text/x-python",
   "name": "python",
   "nbconvert_exporter": "python",
   "pygments_lexer": "ipython3",
   "version": "3.5.2"
  }
 },
 "nbformat": 4,
 "nbformat_minor": 1
}
