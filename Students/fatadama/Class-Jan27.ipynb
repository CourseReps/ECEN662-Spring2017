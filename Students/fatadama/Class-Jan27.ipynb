{
 "cells": [
  {
   "cell_type": "markdown",
   "metadata": {},
   "source": [
    "# Likelihood Functions\n",
    "\n",
    "The likelihood ratio for two Gaussian distributions with shifted means and equal variance is monotone.\n",
    "As such, a threshold test on the likelihood ratio becomes equivalent to a threshold test on the observed value.\n",
    "Two such distributions and their likelihood ratio appear below."
   ]
  },
  {
   "cell_type": "code",
   "execution_count": 16,
   "metadata": {
    "collapsed": false
   },
   "outputs": [
    {
     "name": "stdout",
     "output_type": "stream",
     "text": [
      "-0.444444444444 [103] [32]\n",
      "1.11111111111 [126] [9]\n",
      "2.66666666667 [143] [0]\n",
      "4.22222222222 [156] [0]\n",
      "5.77777777778 [168] [0]\n",
      "7.33333333333 [178] [0]\n",
      "8.88888888889 [187] [0]\n",
      "10.4444444444 [196] [0]\n"
     ]
    },
    {
     "data": {
      "image/png": "[encoded data removed]",
      "text/plain": [
       "<matplotlib.figure.Figure at 0x7fb6d6404208>"
      ]
     },
     "metadata": {},
     "output_type": "display_data"
    }
   ],
   "source": [
    "import matplotlib.pyplot as plt\n",
    "import numpy as np\n",
    "import matplotlib.mlab as mlab\n",
    "import math\n",
    "import scipy.stats\n",
    "\n",
    "mu0 = -1\n",
    "variance0 = 1\n",
    "sigma0 = math.sqrt(variance0)\n",
    "mu1 = 1\n",
    "variance1 = 9\n",
    "sigma1 = math.sqrt(variance1)\n",
    "\n",
    "x = np.linspace(-4, 4, 200)\n",
    "# compute p1(x)/p0(x) for all x\n",
    "likelihoodRatio = scipy.stats.norm.logpdf(x,loc=mu1,scale=sigma1)-scipy.stats.norm.logpdf(x,loc=mu0,scale=sigma0)\n",
    "\n",
    "'''\n",
    "fig, ax1 = plt.subplots()\n",
    "ax1.plot(x,mlab.normpdf(x, mu0, sigma0))\n",
    "ax1.plot(x,mlab.normpdf(x, mu1, sigma1),color='r')\n",
    "ax2 = ax1.twinx()\n",
    "ax2.plot(x,likelihoodRatio,'k--')\n",
    "\n",
    "#plt.show()\n",
    "'''\n",
    "\n",
    "tauv = np.linspace(-2,12,10)\n",
    "# minimum of the likelihood ratio\n",
    "minRat = np.min(likelihoodRatio)\n",
    "maxRat = np.max(likelihoodRatio)\n",
    "PDetection = np.zeros(tauv.shape)\n",
    "PFP = np.zeros(tauv.shape)\n",
    "# all values below minRat, integrate from -Inf to Inf over p1(x) for p(detection), and over p0(x) for p(false positive)\n",
    "for k in range(len(tauv)):\n",
    "    # get the ratio\n",
    "    tau = tauv[k]\n",
    "    if tau <= minRat:\n",
    "        PDetection[k] = 1.0\n",
    "        PFP[k] = 1.0\n",
    "    elif tau >= maxRat:# too large, truncate probs to zero\n",
    "        PDetection[k] = 0.0\n",
    "        PFP[k] = 0.0\n",
    "    else:\n",
    "        # solve for the intercepts\n",
    "        # ix : where likelihoodRatio is increasing through tau\n",
    "        ix = np.where((likelihoodRatio[0:-1] < tau) & (likelihoodRatio[1:] >=tau))[0]\n",
    "        # iy : where likelihoodRatio is decreasing through tau\n",
    "        iy = np.where((likelihoodRatio[0:-1] > tau) & (likelihoodRatio[1:] <=tau))[0]\n",
    "        if ix.shape[0] == 0:\n",
    "            ix = likelihoodRatio.shape[0]\n",
    "        if iy.shape[0] == 0:\n",
    "            # set to index zero\n",
    "            iy = [0]\n",
    "        print(tau,ix,iy)\n",
    "        # for iy: evaluate the CDF at x[iy]\n",
    "        PDetection[k] = scipy.stats.norm.cdf(x[iy],loc=mu1,scale=sigma1)\n",
    "        PFP[k] = scipy.stats.norm.cdf(x[iy],loc=mu0,scale=sigma0)\n",
    "        # for ix: evaluate 1.0-CDF at x[ix]\n",
    "        PDetection[k] = PDetection[k] + (1.0-scipy.stats.norm.cdf(x[ix],loc=mu1,scale=sigma1))\n",
    "        PFP[k] = PFP[k] + (1.0-scipy.stats.norm.cdf(x[ix],loc=mu0,scale=sigma0))\n",
    "        \n",
    "fig2,ax3 = plt.subplots()\n",
    "ax3.plot(PFP,PDetection,'r-')\n",
    "ax3.grid()\n",
    "plt.show()\n"
   ]
  },
  {
   "cell_type": "markdown",
   "metadata": {},
   "source": [
    "## Example of ROC curves"
   ]
  },
  {
   "cell_type": "code",
   "execution_count": null,
   "metadata": {
    "collapsed": false
   },
   "outputs": [],
   "source": [
    "from scipy.stats import norm\n",
    "\n",
    "fig, ax1 = plt.subplots()\n",
    "\n",
    "x = np.linspace(-4, 4, 200)\n",
    "mu = np.linspace(0.25, 1.5, 6)\n",
    "for index in range(5):\n",
    "    mu0 = -mu[index]\n",
    "    mu1 = mu[index]\n",
    "    ax1.plot(norm.cdf((x-mu1)/sigma1),norm.cdf((x-mu0)/sigma0))\n",
    "plt.show()"
   ]
  },
  {
   "cell_type": "markdown",
   "metadata": {},
   "source": [
    "In general, the likelihood ratio need not be a monotone function.\n",
    "Consider the example below where two Gaussian distributions, with different means and variances."
   ]
  },
  {
   "cell_type": "code",
   "execution_count": null,
   "metadata": {
    "collapsed": false
   },
   "outputs": [],
   "source": [
    "fig, ax1 = plt.subplots()\n",
    "\n",
    "mu0 = -1\n",
    "variance0 = 1\n",
    "sigma0 = math.sqrt(variance0)\n",
    "x = np.linspace(-4, 4, 200)\n",
    "ax1.plot(x,mlab.normpdf(x, mu0, sigma0),'b-')\n",
    "\n",
    "mu1 = 1\n",
    "variance1 = 9\n",
    "sigma1 = math.sqrt(variance1)\n",
    "x = np.linspace(-4, 4, 200)\n",
    "ax1.plot(x,mlab.normpdf(x, mu1, sigma1),'r-')\n",
    "\n",
    "ax2 = ax1.twinx()\n",
    "ax2.plot(x,np.log(mlab.normpdf(x, mu1, sigma1)) - np.log(mlab.normpdf(x, mu0, sigma0)),'k--')\n",
    "\n",
    "plt.show()\n",
    "\n"
   ]
  }
 ],
 "metadata": {
  "anaconda-cloud": {},
  "kernelspec": {
   "display_name": "Python [default]",
   "language": "python",
   "name": "python3"
  },
  "language_info": {
   "codemirror_mode": {
    "name": "ipython",
    "version": 3
   },
   "file_extension": ".py",
   "mimetype": "text/x-python",
   "name": "python",
   "nbconvert_exporter": "python",
   "pygments_lexer": "ipython3",
   "version": "3.5.2"
  }
 },
 "nbformat": 4,
 "nbformat_minor": 1
}
