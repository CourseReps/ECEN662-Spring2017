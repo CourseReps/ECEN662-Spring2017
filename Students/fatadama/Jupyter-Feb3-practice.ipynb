{
 "cells": [
  {
   "cell_type": "markdown",
   "metadata": {},
   "source": [
    "# Practice for in-class assignment\n",
    "\n",
    "Use the problem from Assignment 2 Problem 2:\n",
    "\n",
    "$H_0: \\theta=0$ \n",
    "\n",
    "$H_1: \\theta=1$\n",
    "\n",
    "For the random variable $Y = N + \\theta\\lambda$, where $N\\sim U(-1,1)$, $0 \\leq \\lambda \\leq 2$.\n",
    "\n",
    "## Generate data from the two distributions\n"
   ]
  },
  {
   "cell_type": "code",
   "execution_count": 1,
   "metadata": {
    "collapsed": false
   },
   "outputs": [
    {
     "name": "stdout",
     "output_type": "stream",
     "text": [
      "Wrote to file unlabelled.csv\n"
     ]
    }
   ],
   "source": [
    "import numpy as np\n",
    "import pandas as pd\n",
    "\n",
    "# values of theta\n",
    "theta0 = 0.0\n",
    "theta1 = 1.0\n",
    "\n",
    "# number of samples in each distribution\n",
    "N = 10\n",
    "\n",
    "# use random value of lambda\n",
    "lambd = np.random.uniform(0.0,2.0)\n",
    "# generate samples from distribution 0 and 1\n",
    "Y0 = np.random.uniform(-1.0,1.0,size=(N,)) + theta0*lambd\n",
    "Y1 = np.random.uniform(-1.0,1.0,size=(N,)) + theta1*lambd\n",
    "# stack the columns and create an index of classes\n",
    "Y = np.concatenate((Y0,Y1))\n",
    "classes = np.concatenate((np.zeros(N,),np.ones(N,)))\n",
    "# randomize the data order\n",
    "ind = np.random.permutation(2*N)\n",
    "classes = classes[ind]\n",
    "Y = Y[ind]\n",
    "\n",
    "# write out the data to pandas data structure\n",
    "truth = pd.DataFrame({'X':classes,'Y':Y})\n",
    "unlabelled = pd.DataFrame({'Y':Y})\n",
    "unlabelled.to_csv('unlabelled.csv')\n",
    "\n",
    "print(\"Wrote to file unlabelled.csv\")"
   ]
  },
  {
   "cell_type": "markdown",
   "metadata": {},
   "source": [
    "## Use the Neyman-Pearson classifier"
   ]
  },
  {
   "cell_type": "code",
   "execution_count": 2,
   "metadata": {
    "collapsed": false
   },
   "outputs": [],
   "source": [
    "import scipy.stats\n",
    "# load the data file\n",
    "read = pd.DataFrame.from_csv('unlabelled.csv')\n",
    "# classify according to the likelihood ratio\n",
    "Yv = read.values.copy()\n",
    "# compute the likelihood for distribution 0\n",
    "p0 = 0.5*((Yv-theta0*lambd > -1.0) & (Yv-theta0*lambd < 1.0))\n",
    "# likelihood for distribution 1\n",
    "p1 = 0.5*((Yv-theta1*lambd > -1.0) & (Yv-theta1*lambd < 1.0))\n",
    "\n",
    "# Neyman Pearson decision rule with false alarm probability alph:\n",
    "alph = 0.01\n",
    "# threshold value of Y from the homework\n",
    "ystar = 1.0-2.0*alph\n",
    "# pick H1 for y > ystar - here are out guesses for the true classes\n",
    "guesses = 1.0*(Yv > ystar)"
   ]
  },
  {
   "cell_type": "markdown",
   "metadata": {},
   "source": [
    "## Evaluate the false alarm and miss rates in the data"
   ]
  },
  {
   "cell_type": "code",
   "execution_count": 3,
   "metadata": {
    "collapsed": false
   },
   "outputs": [
    {
     "name": "stdout",
     "output_type": "stream",
     "text": [
      "[ 0.  1.  1.  0.  0.  0.  0.  1.  0.  1.  0.  0.  0.  0.  0.  0.  0.  1.\n",
      "  0.  1.]\n",
      "[ 1.  1.  1.  0.  0.  0.  1.  1.  1.  1.  0.  0.  1.  0.  0.  0.  0.  1.\n",
      "  0.  1.]\n",
      "False alarm rate:\n",
      "0.0\n",
      "Miss rate:\n",
      "0.2\n"
     ]
    }
   ],
   "source": [
    "# print the values for debugging\n",
    "print(guesses.flatten())\n",
    "print(classes)\n",
    "# evaluate how good our classifier is. Compute the false-alarm rate\n",
    "FAR = (guesses.flatten() == 1) & (classes == 0)\n",
    "print(\"False alarm rate:\")\n",
    "print(sum(FAR)/len(FAR))\n",
    "# compute the miss rate\n",
    "MR = (guesses.flatten() == 0) & (classes == 1)\n",
    "print(\"Miss rate:\")\n",
    "print(sum(MR)/len(MR))"
   ]
  }
 ],
 "metadata": {
  "anaconda-cloud": {},
  "kernelspec": {
   "display_name": "Python [conda root]",
   "language": "python",
   "name": "conda-root-py"
  },
  "language_info": {
   "codemirror_mode": {
    "name": "ipython",
    "version": 3
   },
   "file_extension": ".py",
   "mimetype": "text/x-python",
   "name": "python",
   "nbconvert_exporter": "python",
   "pygments_lexer": "ipython3",
   "version": "3.5.2"
  }
 },
 "nbformat": 4,
 "nbformat_minor": 1
}
