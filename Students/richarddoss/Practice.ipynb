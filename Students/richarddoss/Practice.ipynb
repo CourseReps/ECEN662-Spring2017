{
 "cells": [
  {
   "cell_type": "code",
   "execution_count": 57,
   "metadata": {
    "collapsed": false
   },
   "outputs": [
    {
     "name": "stdout",
     "output_type": "stream",
     "text": [
      "Generated data\n",
      "\n",
      "          Y        Y0        Y1  Z\n",
      "0  0.650556 -0.056857  0.650556  1\n",
      "1  0.190880  0.371535  0.190880  1\n",
      "2  0.726631  0.726631  2.178708  0\n",
      "3  0.993019  0.993019  2.863290  0\n",
      "4  0.629302  0.629302  0.277745  0\n",
      "5  0.303694  0.303694  0.801353  0\n",
      "6 -0.410131 -0.410131  1.184778  0\n",
      "7  0.327388 -1.213426  0.327388  1\n",
      "8  1.720704  0.260761  1.720704  1\n",
      "9  0.085385  0.085385  2.374754  0\n",
      "Given in question\n",
      "\n",
      "          Y\n",
      "0  0.650556\n",
      "1  0.190880\n",
      "2  0.726631\n",
      "3  0.993019\n",
      "4  0.629302\n",
      "5  0.303694\n",
      "6 -0.410131\n",
      "7  0.327388\n",
      "8  1.720704\n",
      "9  0.085385\n"
     ]
    }
   ],
   "source": [
    "import numpy as np\n",
    "import pandas as pd\n",
    "mean1=0.0\n",
    "mean2=1.0\n",
    "Z=np.random.randint(0,2,10)\n",
    "#print(Z)\n",
    "Y0=np.random.randn(10)+mean1\n",
    "Y1=np.random.randn(10)+mean2\n",
    "Y=[(1-h)*h0+h*h1 for h,h0,h1 in zip(Z,Y0,Y1)]\n",
    "#print(Y)\n",
    "source_df=pd.DataFrame({'Y0':Y0,'Y1':Y1,'Y':Y,'Z':Z})\n",
    "test_df=pd.DataFrame({'Y':Y})\n",
    "print(\"Generated data\\n\")\n",
    "print(source_df)\n",
    "print(\"Given in question\\n\")\n",
    "#print(test_df)\n",
    "test_df.to_csv(\"Dataset0.csv\") "
   ]
  },
  {
   "cell_type": "code",
   "execution_count": 58,
   "metadata": {
    "collapsed": false
   },
   "outputs": [
    {
     "name": "stdout",
     "output_type": "stream",
     "text": [
      "       Y\n",
      "0   True\n",
      "1  False\n",
      "2   True\n",
      "3   True\n",
      "4   True\n",
      "5  False\n",
      "6  False\n",
      "7  False\n",
      "8   True\n",
      "9  False\n"
     ]
    }
   ],
   "source": [
    "load_data=pd.DataFrame.from_csv(\"Dataset0.csv\")\n",
    "from matplotlib.mlab import normpdf \n",
    "LRT=(normpdf(load_data,mean2,1))/(normpdf(load_data,mean1,1))\n",
    "Estimate_Y=(LRT>=1)\n",
    "print(Estimate_Y)"
   ]
  },
  {
   "cell_type": "code",
   "execution_count": 59,
   "metadata": {
    "collapsed": false
   },
   "outputs": [
    {
     "name": "stdout",
     "output_type": "stream",
     "text": [
      "0    1\n",
      "1    0\n",
      "2    1\n",
      "3    1\n",
      "4    1\n",
      "5    0\n",
      "6    0\n",
      "7    0\n",
      "8    1\n",
      "9    0\n",
      "Name: Y, dtype: int64 \n",
      " 0    1\n",
      "1    1\n",
      "2    0\n",
      "3    0\n",
      "4    0\n",
      "5    0\n",
      "6    0\n",
      "7    1\n",
      "8    1\n",
      "9    0\n",
      "Name: Z, dtype: int64\n",
      "5\n"
     ]
    }
   ],
   "source": [
    "Estimate_Y['Y']=Estimate_Y['Y'].map({True:1,False:0})\n",
    "#load_ans=pd.DataFrame.from_csv(\"D\")\n",
    "print(Estimate_Y['Y'],\"\\n\",source_df['Z'])\n",
    "print(np.count_nonzero(Estimate_Y['Y']==source_df['Z']))"
   ]
  },
  {
   "cell_type": "code",
   "execution_count": null,
   "metadata": {
    "collapsed": true
   },
   "outputs": [],
   "source": []
  }
 ],
 "metadata": {
  "anaconda-cloud": {},
  "kernelspec": {
   "display_name": "Python [default]",
   "language": "python",
   "name": "python3"
  },
  "language_info": {
   "codemirror_mode": {
    "name": "ipython",
    "version": 3
   },
   "file_extension": ".py",
   "mimetype": "text/x-python",
   "name": "python",
   "nbconvert_exporter": "python",
   "pygments_lexer": "ipython3",
   "version": "3.5.2"
  }
 },
 "nbformat": 4,
 "nbformat_minor": 1
}
