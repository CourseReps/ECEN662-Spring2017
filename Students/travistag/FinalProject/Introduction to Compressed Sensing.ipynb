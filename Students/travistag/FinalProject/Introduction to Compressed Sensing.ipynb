{
 "cells": [
  {
   "cell_type": "markdown",
   "metadata": {},
   "source": [
    "# Introduction to Compressed Sensing\n",
    "\n",
    "Compressed sensing is a technique in signal processing that attempts to reconstruct or infer signals from a relatively small number of samples.\n",
    "In a very general sense, the signal to be reconstructed must be assumed to be sparse in some domain - the process then solves a system of linear equations while trying to minimize the density of the signal in the aforementioned domain.\n",
    "Although this may seem to violate the Nyquist-Shannon sampling requirement, this requirement is a sufficient condition, not a necessary one.\n",
    "Furthermore, compressed sensing is often used to obtain approximations of signals, without need for perfect reconstruction.\n",
    "\n",
    "## History\n",
    "The idea of reconstructing signals that have been sampled below the Nyquist rate is not new, it has been known for a long time as undersampling.\n",
    "Even further, the L-1 norm has been used for signal reconstruction - it was used in matching pursuit in the early 90s for signal approximation.\n",
    "\n",
    "However, the full formulation of the compressed sensing problem, as well as the associated guarantees and conditions, has occurred over the past 10-15 years.\n",
    "In 2002, a paper by Ye, Bresler, and Moulin titled \"A Self-Referencing Level-Set Method for Image Reconstruction\n",
    "from Sparse Fourier Samples\" showed a large amount of potential for the use of sparsity for signal reconstruction.\n",
    "In the mid to late 2000s, a series of papers by various authors established guarantees of compressed sensing reconstruction for varying problem formulations.\n",
    "Examples include: a 2003 paper by Donoho and Elad, establishing conditions for uniqueness of the most sparse representation and L-0/L-1 equivalence; a 2006 paper by Donoho establishing a guarantee of the basis pursuit for a random sampling matrix; and a 2009 paper by Wainwright offering an information theoretic analysis of compressed sensing.\n",
    "\n",
    "It is clear that compressed sensing, rather than being discovered quickly, was adopted over time and developed as the result of the work of many scientists over several years; in fact, it is still developing today.\n",
    "Current research is being done in many areas of compressed sensing, examples include utilizing compressed sensing for dynamic principal componenent analysis\n",
    "\n",
    "\n",
    "## Problem Formulations\n",
    "\n",
    "### L-0, L-1, L-2\n",
    "\n",
    "## Common Transforms/Domains\n",
    "\n",
    "## Applications"
   ]
  },
  {
   "cell_type": "code",
   "execution_count": null,
   "metadata": {
    "collapsed": true
   },
   "outputs": [],
   "source": []
  }
 ],
 "metadata": {
  "kernelspec": {
   "display_name": "Python 3",
   "language": "python",
   "name": "python3"
  },
  "language_info": {
   "codemirror_mode": {
    "name": "ipython",
    "version": 3
   },
   "file_extension": ".py",
   "mimetype": "text/x-python",
   "name": "python",
   "nbconvert_exporter": "python",
   "pygments_lexer": "ipython3",
   "version": "3.5.1"
  }
 },
 "nbformat": 4,
 "nbformat_minor": 0
}
