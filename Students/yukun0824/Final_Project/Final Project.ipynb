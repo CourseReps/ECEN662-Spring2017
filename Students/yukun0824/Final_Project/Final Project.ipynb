{
 "cells": [
  {
   "cell_type": "code",
   "execution_count": 1,
   "metadata": {
    "collapsed": false
   },
   "outputs": [],
   "source": [
    "import numpy as np\n",
    "import pandas as pd\n",
    "import random as rand\n",
    "import matplotlib.pyplot as plt\n",
    "from scipy.stats import norm"
   ]
  },
  {
   "cell_type": "code",
   "execution_count": 2,
   "metadata": {
    "collapsed": false
   },
   "outputs": [],
   "source": [
    "rand.seed(42)\n",
    "mu1 = [0, 5]\n",
    "sig1 = [ [5, 0], [0, 2] ]\n",
    "mu2 = [5, 0]\n",
    "sig2 = [ [3, 0], [0, 8] ]\n",
    "\n",
    "x1, y1 = np.random.multivariate_normal(mu1, sig1, 200).T\n",
    "x2, y2 = np.random.multivariate_normal(mu2, sig2, 200).T\n",
    "\n",
    "xs = np.concatenate((x1, x2))\n",
    "ys = np.concatenate((y1, y2))\n",
    "labels = ([1] * 200) + ([2] * 200)\n",
    "\n",
    "data = {'x': xs, 'y': ys, 'label': labels}\n",
    "df = pd.DataFrame(data=data)\n",
    "fig = plt.figure()\n",
    "plt.scatter(data['x'], data['y'], 24, c=data['label'])\n",
    "fig.savefig(\"true-values.png\")"
   ]
  },
  {
   "cell_type": "code",
   "execution_count": 3,
   "metadata": {
    "collapsed": false
   },
   "outputs": [
    {
     "data": {
      "text/html": [
       "<div>\n",
       "<table border=\"1\" class=\"dataframe\">\n",
       "  <thead>\n",
       "    <tr style=\"text-align: right;\">\n",
       "      <th></th>\n",
       "      <th>label</th>\n",
       "      <th>x</th>\n",
       "      <th>y</th>\n",
       "    </tr>\n",
       "  </thead>\n",
       "  <tbody>\n",
       "    <tr>\n",
       "      <th>0</th>\n",
       "      <td>1</td>\n",
       "      <td>0.963109</td>\n",
       "      <td>3.790889</td>\n",
       "    </tr>\n",
       "    <tr>\n",
       "      <th>1</th>\n",
       "      <td>1</td>\n",
       "      <td>-1.655057</td>\n",
       "      <td>3.809898</td>\n",
       "    </tr>\n",
       "    <tr>\n",
       "      <th>2</th>\n",
       "      <td>1</td>\n",
       "      <td>2.881180</td>\n",
       "      <td>3.681065</td>\n",
       "    </tr>\n",
       "    <tr>\n",
       "      <th>3</th>\n",
       "      <td>1</td>\n",
       "      <td>-3.048583</td>\n",
       "      <td>5.937842</td>\n",
       "    </tr>\n",
       "    <tr>\n",
       "      <th>4</th>\n",
       "      <td>1</td>\n",
       "      <td>-3.221270</td>\n",
       "      <td>3.866831</td>\n",
       "    </tr>\n",
       "  </tbody>\n",
       "</table>\n",
       "</div>"
      ],
      "text/plain": [
       "   label         x         y\n",
       "0      1  0.963109  3.790889\n",
       "1      1 -1.655057  3.809898\n",
       "2      1  2.881180  3.681065\n",
       "3      1 -3.048583  5.937842\n",
       "4      1 -3.221270  3.866831"
      ]
     },
     "execution_count": 3,
     "metadata": {},
     "output_type": "execute_result"
    }
   ],
   "source": [
    "df.head()"
   ]
  },
  {
   "cell_type": "code",
   "execution_count": 4,
   "metadata": {
    "collapsed": true
   },
   "outputs": [],
   "source": [
    "def prob(val, mu, sig, lam):\n",
    "    p = lam\n",
    "    for i in range(len(val)):\n",
    "        p *= norm.pdf(val[i], mu[i], sig[i][i])\n",
    "    return p"
   ]
  },
  {
   "cell_type": "code",
   "execution_count": 5,
   "metadata": {
    "collapsed": true
   },
   "outputs": [],
   "source": [
    "# assign every data point to its most likely cluster\n",
    "def expectation(dataFrame, parameters):\n",
    "    for i in range(dataFrame.shape[0]):\n",
    "        x = dataFrame['x'][i]\n",
    "        y = dataFrame['y'][i]\n",
    "        p_cluster1 = prob([x, y], list(parameters['mu1']), list(parameters['sig1']), parameters['lambda'][0] )\n",
    "        p_cluster2 = prob([x, y], list(parameters['mu2']), list(parameters['sig2']), parameters['lambda'][1] )\n",
    "        if p_cluster1 > p_cluster2:\n",
    "            dataFrame['label'][i] = 1\n",
    "        else:\n",
    "            dataFrame['label'][i] = 2\n",
    "    return dataFrame"
   ]
  },
  {
   "cell_type": "code",
   "execution_count": 6,
   "metadata": {
    "collapsed": true
   },
   "outputs": [],
   "source": [
    "# update estimates of lambda, mu and sigma\n",
    "def maximization(dataFrame, parameters):\n",
    "    points_assigned_to_cluster1 = dataFrame[dataFrame['label'] == 1]\n",
    "    points_assigned_to_cluster2 = dataFrame[dataFrame['label'] == 2]\n",
    "    percent_assigned_to_cluster1 = len(points_assigned_to_cluster1) / float(len(dataFrame))\n",
    "    percent_assigned_to_cluster2 = 1 - percent_assigned_to_cluster1\n",
    "    parameters['lambda'] = [percent_assigned_to_cluster1, percent_assigned_to_cluster2 ]\n",
    "    parameters['mu1'] = [points_assigned_to_cluster1['x'].mean(), points_assigned_to_cluster1['y'].mean()]\n",
    "    parameters['mu2'] = [points_assigned_to_cluster2['x'].mean(), points_assigned_to_cluster2['y'].mean()]\n",
    "    parameters['sig1'] = [ [points_assigned_to_cluster1['x'].std(), 0 ], [ 0, points_assigned_to_cluster1['y'].std() ] ]\n",
    "    parameters['sig2'] = [ [points_assigned_to_cluster2['x'].std(), 0 ], [ 0, points_assigned_to_cluster2['y'].std() ] ]\n",
    "    return parameters"
   ]
  },
  {
   "cell_type": "code",
   "execution_count": 7,
   "metadata": {
    "collapsed": false
   },
   "outputs": [],
   "source": [
    "# used for determining if params have converged\n",
    "def distance(old_params, new_params):\n",
    "    dist = 0\n",
    "    for param in ['mu1', 'mu2']:\n",
    "        for i in range(len(old_params)):\n",
    "            dist += (old_params[param][i] - new_params[param][i]) ** 2\n",
    "    return dist ** 0.5"
   ]
  },
  {
   "cell_type": "code",
   "execution_count": null,
   "metadata": {
    "collapsed": false
   },
   "outputs": [],
   "source": [
    "# initial guesses - intentionally bad\n",
    "guess = { 'mu1': [1,1],\n",
    "          'sig1': [ [1, 0], [0, 1] ],\n",
    "          'mu2': [4,4],\n",
    "          'sig2': [ [1, 0], [0, 1] ],\n",
    "          'lambda': [0.4, 0.6]\n",
    "        }"
   ]
  },
  {
   "cell_type": "code",
   "execution_count": null,
   "metadata": {
    "collapsed": false
   },
   "outputs": [
    {
     "name": "stderr",
     "output_type": "stream",
     "text": [
      "//anaconda/lib/python3.5/site-packages/ipykernel/__main__.py:9: SettingWithCopyWarning: \n",
      "A value is trying to be set on a copy of a slice from a DataFrame\n",
      "\n",
      "See the caveats in the documentation: http://pandas.pydata.org/pandas-docs/stable/indexing.html#indexing-view-versus-copy\n",
      "//anaconda/lib/python3.5/site-packages/ipykernel/__main__.py:11: SettingWithCopyWarning: \n",
      "A value is trying to be set on a copy of a slice from a DataFrame\n",
      "\n",
      "See the caveats in the documentation: http://pandas.pydata.org/pandas-docs/stable/indexing.html#indexing-view-versus-copy\n"
     ]
    },
    {
     "name": "stdout",
     "output_type": "stream",
     "text": [
      "iteration 1, shift 1.0693675748137474\n",
      "iteration 2, shift 2.719209053525874\n",
      "iteration 3, shift 1.9678700348626508\n",
      "iteration 4, shift 0.4676386060020246\n"
     ]
    }
   ],
   "source": [
    "# loop until parameters converge\n",
    "shift = 100\n",
    "epsilon = 0.01\n",
    "iters = 0\n",
    "df_copy = df.copy()\n",
    "# randomly assign points to their initial clusters\n",
    "df_copy['label'] = map(lambda x: x+1, np.random.choice(2, len(df)))\n",
    "params = pd.DataFrame(guess)\n",
    "\n",
    "while shift > epsilon:\n",
    "    iters += 1\n",
    "    # E-step\n",
    "    updated_labels = expectation(df_copy.copy(), params)\n",
    "\n",
    "    # M-step\n",
    "    updated_parameters = maximization(updated_labels, params.copy())\n",
    "\n",
    "    # see if our estimates of mu have changed\n",
    "    # could incorporate all params, or overall log-likelihood\n",
    "    shift = distance(params, updated_parameters)\n",
    "\n",
    "    # logging\n",
    "    print(\"iteration {}, shift {}\".format(iters, shift))\n",
    "\n",
    "    # update labels and params for the next iteration\n",
    "    df_copy = updated_labels\n",
    "    params = updated_parameters\n",
    "\n",
    "    fig = plt.figure()\n",
    "    plt.scatter(df_copy['x'], df_copy['y'], 24, c=df_copy['label'])\n",
    "    fig.savefig(\"iteration{}.png\".format(iters))"
   ]
  },
  {
   "cell_type": "code",
   "execution_count": null,
   "metadata": {
    "collapsed": true
   },
   "outputs": [],
   "source": []
  }
 ],
 "metadata": {
  "anaconda-cloud": {},
  "kernelspec": {
   "display_name": "Python [default]",
   "language": "python",
   "name": "python3"
  },
  "language_info": {
   "codemirror_mode": {
    "name": "ipython",
    "version": 3
   },
   "file_extension": ".py",
   "mimetype": "text/x-python",
   "name": "python",
   "nbconvert_exporter": "python",
   "pygments_lexer": "ipython3",
   "version": "3.5.2"
  }
 },
 "nbformat": 4,
 "nbformat_minor": 1
}
