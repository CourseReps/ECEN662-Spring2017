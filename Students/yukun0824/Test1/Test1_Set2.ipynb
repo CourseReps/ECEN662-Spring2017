{
 "cells": [
  {
   "cell_type": "code",
   "execution_count": 5,
   "metadata": {
    "collapsed": false
   },
   "outputs": [],
   "source": [
    "import numpy as np\n",
    "from scipy.stats import chi2\n",
    "from scipy.stats import ncx2\n",
    "import pandas as pd\n",
    "\n",
    "dof = 4\n",
    "ncp = 2\n",
    "sample_df = pd.DataFrame.from_csv(\"Data1Set2_yukun0824.csv\")\n",
    "Z=[]\n",
    "for Z_hat in range(1000):\n",
    "    P0 = chi2.pdf(sample_df[\"Y\"][Z_hat], dof)\n",
    "    P1 = ncx2.pdf(sample_df[\"Y\"][Z_hat], dof, ncp)\n",
    "    if P1/P0 > 1:\n",
    "        Z.append(1)\n",
    "    else:\n",
    "        Z.append(0)\n",
    "pd.DataFrame(Z, columns=['Z']).to_csv(\"Data1Answer1.csv\")"
   ]
  },
  {
   "cell_type": "code",
   "execution_count": null,
   "metadata": {
    "collapsed": true
   },
   "outputs": [],
   "source": []
  }
 ],
 "metadata": {
  "kernelspec": {
   "display_name": "Python 3",
   "language": "python",
   "name": "python3"
  },
  "language_info": {
   "codemirror_mode": {
    "name": "ipython",
    "version": 3
   },
   "file_extension": ".py",
   "mimetype": "text/x-python",
   "name": "python",
   "nbconvert_exporter": "python",
   "pygments_lexer": "ipython3",
   "version": "3.6.0"
  }
 },
 "nbformat": 4,
 "nbformat_minor": 2
}
