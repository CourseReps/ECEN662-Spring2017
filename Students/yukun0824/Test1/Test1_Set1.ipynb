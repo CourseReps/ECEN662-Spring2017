{
 "cells": [
  {
   "cell_type": "code",
   "execution_count": 40,
   "metadata": {
    "collapsed": false
   },
   "outputs": [],
   "source": [
    "import math\n",
    "import numpy as np\n",
    "from scipy.stats import beta\n",
    "import pandas as pd\n",
    "\n",
    "a = 2\n",
    "b = 4\n",
    "p0 = 0.75\n",
    "p1 = 0.25\n",
    "threshold = p0/p1\n",
    "sample_df = pd.DataFrame.from_csv(\"Data1Set1_yukun0824.csv\")\n",
    "Z=[]\n",
    "for Z_hat in range(1000):\n",
    "    pdf0 = sample_df[\"Y\"][Z_hat]**(a-1)*(1-sample_df[\"Y\"][Z_hat])**(b-1)\n",
    "    pdf1 = sample_df[\"Y\"][Z_hat]**(b-1)*(1-sample_df[\"Y\"][Z_hat])**(a-1)\n",
    "    #P0 = beta.pdf(sample_df[Z_hat],a,b)\n",
    "    #P1 = beta.pdf(sample_df[Z_hat],b,a)\n",
    "    if pdf1/pdf0 > threshold:\n",
    "        Z.append(1)\n",
    "    else:\n",
    "        Z.append(0)\n",
    "pd.DataFrame(Z, columns=['Z']).to_csv(\"Data1Answer2.csv\")"
   ]
  },
  {
   "cell_type": "code",
   "execution_count": null,
   "metadata": {
    "collapsed": false
   },
   "outputs": [],
   "source": []
  },
  {
   "cell_type": "code",
   "execution_count": null,
   "metadata": {
    "collapsed": true
   },
   "outputs": [],
   "source": []
  },
  {
   "cell_type": "code",
   "execution_count": null,
   "metadata": {
    "collapsed": true
   },
   "outputs": [],
   "source": []
  }
 ],
 "metadata": {
  "kernelspec": {
   "display_name": "Python 3",
   "language": "python",
   "name": "python3"
  },
  "language_info": {
   "codemirror_mode": {
    "name": "ipython",
    "version": 3
   },
   "file_extension": ".py",
   "mimetype": "text/x-python",
   "name": "python",
   "nbconvert_exporter": "python",
   "pygments_lexer": "ipython3",
   "version": "3.6.0"
  }
 },
 "nbformat": 4,
 "nbformat_minor": 2
}
