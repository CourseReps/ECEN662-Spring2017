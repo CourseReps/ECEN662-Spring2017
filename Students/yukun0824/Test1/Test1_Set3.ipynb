{
 "cells": [
  {
   "cell_type": "code",
   "execution_count": 10,
   "metadata": {
    "collapsed": false
   },
   "outputs": [],
   "source": [
    "import numpy as np\n",
    "from scipy.stats import chi2\n",
    "from scipy.stats import ncx2\n",
    "import pandas as pd\n",
    "import math\n",
    "Z = []\n",
    "sample_df = pd.DataFrame.from_csv(\"Data1Set3_yukun0824.csv\")\n",
    "for Z_hat in range(1000):\n",
    "    matrix1 = np.matrix([[1, math.sqrt(3)/2],[math.sqrt(3)/2,1]])\n",
    "    matrix0 = np.matrix([[1, 0],[0, 1]])\n",
    "    sample = np.matrix([sample_df[\"Y0\"][Z_hat], sample_df[\"Y1\"][Z_hat]])\n",
    "    P0 = 1/(2*math.pi*np.linalg.det(matrix0)**(-0.5))*math.exp(-0.5*sample*matrix0**(-1)*sample.transpose())\n",
    "    P1 = 1/(2*math.pi*np.linalg.det(matrix1)**(-0.5))*math.exp(-0.5*sample*matrix1**(-1)*sample.transpose())\n",
    "    if P1/P0 > 1:\n",
    "        Z.append(1)\n",
    "    else:\n",
    "        Z.append(0)\n",
    "pd.DataFrame(Z, columns=['Z']).to_csv(\"Data1Answer3.csv\")"
   ]
  },
  {
   "cell_type": "code",
   "execution_count": null,
   "metadata": {
    "collapsed": true
   },
   "outputs": [],
   "source": []
  },
  {
   "cell_type": "code",
   "execution_count": null,
   "metadata": {
    "collapsed": true
   },
   "outputs": [],
   "source": []
  }
 ],
 "metadata": {
  "kernelspec": {
   "display_name": "Python 3",
   "language": "python",
   "name": "python3"
  },
  "language_info": {
   "codemirror_mode": {
    "name": "ipython",
    "version": 3
   },
   "file_extension": ".py",
   "mimetype": "text/x-python",
   "name": "python",
   "nbconvert_exporter": "python",
   "pygments_lexer": "ipython3",
   "version": "3.6.0"
  }
 },
 "nbformat": 4,
 "nbformat_minor": 2
}
