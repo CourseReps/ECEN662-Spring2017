{
 "cells": [
  {
   "cell_type": "markdown",
   "metadata": {},
   "source": [
    "   #      Distinguishing CG and PG by Identifying Traces of Demosaicing\n",
    "\n",
    "                           Rayan El Helou; Yukun Tan; Virisha Timmaraju"
   ]
  },
  {
   "cell_type": "markdown",
   "metadata": {},
   "source": [
    "There are three primary steps involved;\n",
    "\n",
    "A. Selecting an appropriate feature\n",
    "\n",
    "B. Validating results for the training set\n",
    "\n",
    "C. Statistically modeling the problem\n",
    "\n",
    "D. Testing the decision making model"
   ]
  },
  {
   "cell_type": "markdown",
   "metadata": {},
   "source": [
    "A. Selecting an appropriate feature:\n",
    "\n",
    "After reviewing multiple features, we decided on a feature that identifies traces of demosaicing.\n",
    "\n",
    "Introduction to Demosaicing:\n",
    "Demosaicing is necessarily one of the first operations applied to an image in the digital camera. Nearly all digital cameras contain an image sensor with a color filter array. Typically, a demosaicing algorithm, also called color filter array interpolation, is applied to the raw image to estimate the pixel value for each color component. An interpolated pixel value is produced with a weighted linear combination of neighboring pixel values. The weights directly affect the variance of the distribution from which the interpolated pixel value is drawn. This pattern of variances can be detected and is the basis for detecting demosaicing. In our implementation, we consider only the green channel of the image to demonstrate our approach.\n",
    "\n",
    "Algorithm:\n",
    "\n",
    "1.The image i(x, y) is convolved with a highpass operator h(x, y) (Laplacian, in our case), in order to remove low frequency information and enhance the embedded periodicity when demosaicing has occurred.\n",
    "\n",
    "2.Next, estimates of the variance of each photosite are made using Maximum Likelihood Estimation. After application of h(x, y), each pixel value is assumed to be drawn from a normal distribution with a particular variance, and the variance along diagonals is assumed to be constant for images that have undergone demosaicing((note the variance varies periodically across different diagonals).\n",
    "\n",
    "3.To compute a MLE estimate of the variance, the statistical variance of the pixel values along each diagonal is found. in place of actually computing variance,we use the computationally simpler mean of the absolute values of each diagonal in the image. This projects the image down to a single-dimension signal, m(d), were m(d) represents the estimate of the variance corresponding to the dth diagonal, Nd is the number of pixels along the dth diagonal and is used for normalization.\n",
    "\n",
    "4.To find the periodicity in m(d), the DFT is computed to find |M(e^jω)|. A relatively high peak at frequency ω = π indicates that the image has undergone interpolation by afactor of two and is characteristic of demosaicing. where k is the median value of the spectrum, excluding the DC value. Normalizing by k was found to be important to distinguish between true demosaicing and images containing signals or noise with large energy across the frequency spectrum. The peak magnitude at ω = π is quantified as follows:\n",
    "\n"
   ]
  }
 ],
 "metadata": {
  "anaconda-cloud": {},
  "kernelspec": {
   "display_name": "Python 3",
   "language": "python",
   "name": "python3"
  },
  "language_info": {
   "codemirror_mode": {
    "name": "ipython",
    "version": 3
   },
   "file_extension": ".py",
   "mimetype": "text/x-python",
   "name": "python",
   "nbconvert_exporter": "python",
   "pygments_lexer": "ipython3",
   "version": "3.6.0"
  }
 },
 "nbformat": 4,
 "nbformat_minor": 1
}
