{
 "cells": [
  {
   "cell_type": "markdown",
   "metadata": {},
   "source": [
    "# Concept\n",
    "\n",
    "We are treating this problem as binary hypothesis testing problem and our observations are RGB color image pixel values for different sets of images. \n",
    "\n",
    "* Hypothesis H1: Maximum of pixel values corresponding to natural image\n",
    "* Hypothesis H0: Maximum of pixel values corresponding to synthetic image\n",
    "\n",
    "\n",
    "\n",
    "\n",
    "\n",
    "## Likelihood Ratio Test\n",
    "\n",
    "This test is able to distinguish between natural and synthetic images when we use a threshold and compare the same with the likelihood ratio.\n",
    "\n",
    "\n",
    "\\begin{equation}\n",
    "\\frac{Pr(H_1)}{Pr(H_0)} \\ > threshold\n",
    "\\end{equation}\n",
    "\n",
    "As we are treating both kind of images on a single parameter, we are setting the threshold value to 1. If the likelihood ratio is greater than 1, then it's treated as natural image and otherwise it's treated as synthetic image.\n",
    "\n",
    "\n",
    "## Image Processing Method\n",
    "\n",
    "The image has been processed in RGB. The peak pixel value is taken as the feature for the classifier. Since we are only concerned with the peak pixel value, we resized the image to a 300 x 150 image to reduce computational complexity. \n",
    "\n",
    "Post that, our hypothesis H1 was that the pixel values for real were clustered around a sample mean and distributed with a sample variance. We assumed that this would be lower than the ones for the synthetic images, as the synthetic images had more vibrant colors.\n",
    "\n",
    "For synthetic images, our hypothesis H0 was similar to H0, just with a different mean and variance. \n",
    "\n",
    "<img src=\"histogram.png\" alt=\"Histogram\" style=\"width: 600px;\"/>\n"
   ]
  },
  {
   "cell_type": "markdown",
   "metadata": {},
   "source": [
    "## Results\n",
    "\n",
    "For our sample data set we obtain the following values:\n",
    "\n",
    "Natural:\n",
    "Mean: 1836.422\n",
    "Variance: 4033201.399\n",
    "\n",
    "Synthetic\n",
    "Mean: 5749.32\n",
    "Variance: 1905503.21\n",
    "\n",
    "Using our likelihood ratio test and setting the threshold equal to 1, we obtain the following performance:\n",
    "\n",
    "Natural: 95.55% of the images we are able to detect it correctly\n",
    "Synthetic: 82.5% of the images we are able to detect it correctly\n",
    "\n",
    "Probability of Detection: 0.9555\n",
    "\n",
    "Probability of False Alarm: 0.175\n",
    "\n",
    "Probability of Miss: 0.0445\n"
   ]
  },
  {
   "cell_type": "code",
   "execution_count": null,
   "metadata": {
    "collapsed": true
   },
   "outputs": [],
   "source": []
  },
  {
   "cell_type": "code",
   "execution_count": null,
   "metadata": {
    "collapsed": true
   },
   "outputs": [],
   "source": []
  }
 ],
 "metadata": {
  "anaconda-cloud": {},
  "kernelspec": {
   "display_name": "Python [default]",
   "language": "python",
   "name": "python3"
  },
  "language_info": {
   "codemirror_mode": {
    "name": "ipython",
    "version": 3
   },
   "file_extension": ".py",
   "mimetype": "text/x-python",
   "name": "python",
   "nbconvert_exporter": "python",
   "pygments_lexer": "ipython3",
   "version": "3.5.2"
  }
 },
 "nbformat": 4,
 "nbformat_minor": 1
}
